{
  "nbformat": 4,
  "nbformat_minor": 0,
  "metadata": {
    "colab": {
      "name": "ML Lab Assignment 5_101917024.ipynb",
      "provenance": [],
      "collapsed_sections": []
    },
    "kernelspec": {
      "name": "python3",
      "display_name": "Python 3"
    },
    "language_info": {
      "name": "python"
    }
  },
  "cells": [
    {
      "cell_type": "code",
      "metadata": {
        "id": "7-kCJwB6xNS2"
      },
      "source": [
        "#Arpit Arora\n",
        "#101917024 CSE1\n",
        "#Assignment 5"
      ],
      "execution_count": null,
      "outputs": []
    },
    {
      "cell_type": "code",
      "metadata": {
        "id": "74_WnsiBxYed"
      },
      "source": [
        "#Simple Linear Regression\n",
        "import numpy as np\n",
        "import matplotlib.pyplot as plt"
      ],
      "execution_count": 2,
      "outputs": []
    },
    {
      "cell_type": "code",
      "metadata": {
        "id": "IaAkNr7Yxnb5"
      },
      "source": [
        "#now defining input feature square feet as x\n",
        "x=np.array([1400, 1600, 1700, 1875, 1100, 1550, 2350, 2450, 1425, 1700])\n",
        "#and defining output feature house price as y\n",
        "y=np.array([245, 312, 279, 308, 199, 219, 405, 324, 319, 255])"
      ],
      "execution_count": 22,
      "outputs": []
    },
    {
      "cell_type": "code",
      "metadata": {
        "id": "JFtocvcPyT53"
      },
      "source": [
        "#now the aim is to obtain a line y = b0 + b1*x \n",
        "#and estimate coefficients b0 and b1\n",
        "#mathematically going by the equations\n",
        "#defining number of samples\n",
        "n=np.size(x)\n",
        "#b1 or slope m is given by\n",
        "b1 = (n*np.sum(x*y) - np.sum(x)*np.sum(y))/(n*np.sum(x*x) - np.sum(x)*np.sum(x))\n",
        "#b0 or intercept c is given by\n",
        "b0 = (np.sum(y) - b1*np.sum(x))/n"
      ],
      "execution_count": 23,
      "outputs": []
    },
    {
      "cell_type": "code",
      "metadata": {
        "colab": {
          "base_uri": "https://localhost:8080/"
        },
        "id": "F6oWYMml0AnS",
        "outputId": "8993cf01-7a77-47fc-dc5f-bf65526bf26f"
      },
      "source": [
        "print(b0)"
      ],
      "execution_count": 24,
      "outputs": [
        {
          "output_type": "stream",
          "name": "stdout",
          "text": [
            "98.24832962138085\n"
          ]
        }
      ]
    },
    {
      "cell_type": "code",
      "metadata": {
        "colab": {
          "base_uri": "https://localhost:8080/"
        },
        "id": "Mp32g-wF0H4n",
        "outputId": "9c0c1d76-5582-43cf-8b40-7108e5e35571"
      },
      "source": [
        "print(b1)"
      ],
      "execution_count": 25,
      "outputs": [
        {
          "output_type": "stream",
          "name": "stdout",
          "text": [
            "0.10976773783009863\n"
          ]
        }
      ]
    },
    {
      "cell_type": "code",
      "metadata": {
        "colab": {
          "base_uri": "https://localhost:8080/"
        },
        "id": "Wh0LkiVT0Kyq",
        "outputId": "53440e57-0d28-413e-be4f-0e791af3f788"
      },
      "source": [
        "#house price for plot size 3000, 2000 and 1500 feet \n",
        "Y = b0 + b1*3000\n",
        "print('price for 3000 feet: ', Y)\n",
        "Y = b0 + b1*2000\n",
        "print('price for 2000 feet: ', Y)\n",
        "Y = b0 + b1*1500\n",
        "print('price for 1500 feet: ', Y)"
      ],
      "execution_count": 26,
      "outputs": [
        {
          "output_type": "stream",
          "name": "stdout",
          "text": [
            "price for 3000 feet:  427.5515431116767\n",
            "price for 2000 feet:  317.7838052815781\n",
            "price for 1500 feet:  262.8999363665288\n"
          ]
        }
      ]
    },
    {
      "cell_type": "code",
      "metadata": {
        "colab": {
          "base_uri": "https://localhost:8080/",
          "height": 296
        },
        "id": "MHqKFcAv2c9B",
        "outputId": "882da672-0c44-4074-b94c-f5e2ecb52a41"
      },
      "source": [
        "#plotting the actual points as scatter plot\n",
        "plt.scatter(x, y, color=\"m\", marker=\"o\", s=30)\n",
        "#plotting the predicted line\n",
        "y_predicted = b0 + b1*x\n",
        "plt.plot(x, y_predicted, color=\"g\")\n",
        "#putting labels\n",
        "plt.xlabel('Area (square feet)')\n",
        "plt.ylabel('House Price (in $1000s)')"
      ],
      "execution_count": 27,
      "outputs": [
        {
          "output_type": "execute_result",
          "data": {
            "text/plain": [
              "Text(0, 0.5, 'House Price (in $1000s)')"
            ]
          },
          "metadata": {},
          "execution_count": 27
        },
        {
          "output_type": "display_data",
          "data": {
            "image/png": "[encoded data removed]",
            "text/plain": [
              "<Figure size 432x288 with 1 Axes>"
            ]
          },
          "metadata": {
            "needs_background": "light"
          }
        }
      ]
    },
    {
      "cell_type": "code",
      "metadata": {
        "id": "4gNR_iXt2t3y"
      },
      "source": [
        "#Multiple Linear Regression\n",
        "#defining interest rate as input feature x1\n",
        "x1=np.array([2.75, 2.5, 2.5, 2.5, 2.5, 2.5, 2.5, 2.25, 2.25, 2.25, 2, 2, 2, 1.75, 1.75, 1.75, 1.75, 1.75, 1.75, 1.75, 1.75, 1.75, 1.75, 1.75])\n",
        "#defining unemployement rate as input feature x2\n",
        "x2=np.array([5.3, 5.3, 5.3, 5.3, 5.4, 5.6, 5.5, 5.5, 5.5, 5.6, 5.7, 5.9, 6, 5.9, 5.8, 6.1, 6.2, 6.1, 6.1, 6.1, 5.9, 6.2, 6.2, 6.1])\n",
        "#defining stock price index as output feature y\n",
        "y=np.array([1464, 1394, 1357, 1293, 1256, 1254, 1234, 1195, 1159, 1167, 1130, 1075, 1047, 965, 943, 958, 971, 949, 884, 866, 876, 822, 704, 719])"
      ],
      "execution_count": 40,
      "outputs": []
    },
    {
      "cell_type": "code",
      "metadata": {
        "id": "ypphDXc8rwDV",
        "colab": {
          "base_uri": "https://localhost:8080/"
        },
        "outputId": "b554da5f-c171-4af5-9f97-81085df4b88d"
      },
      "source": [
        "#now the aim is to obtain an equation of the form\n",
        "#y=b0 + b1*x1 + b2*x2\n",
        "#mathematically going by the equation\n",
        "#defining the input feature matrix\n",
        "x0=np.ones((24))\n",
        "X=np.stack((x0, x1, x2), axis=1)\n",
        "print(X)"
      ],
      "execution_count": 41,
      "outputs": [
        {
          "output_type": "stream",
          "name": "stdout",
          "text": [
            "[[1.   2.75 5.3 ]\n",
            " [1.   2.5  5.3 ]\n",
            " [1.   2.5  5.3 ]\n",
            " [1.   2.5  5.3 ]\n",
            " [1.   2.5  5.4 ]\n",
            " [1.   2.5  5.6 ]\n",
            " [1.   2.5  5.5 ]\n",
            " [1.   2.25 5.5 ]\n",
            " [1.   2.25 5.5 ]\n",
            " [1.   2.25 5.6 ]\n",
            " [1.   2.   5.7 ]\n",
            " [1.   2.   5.9 ]\n",
            " [1.   2.   6.  ]\n",
            " [1.   1.75 5.9 ]\n",
            " [1.   1.75 5.8 ]\n",
            " [1.   1.75 6.1 ]\n",
            " [1.   1.75 6.2 ]\n",
            " [1.   1.75 6.1 ]\n",
            " [1.   1.75 6.1 ]\n",
            " [1.   1.75 6.1 ]\n",
            " [1.   1.75 5.9 ]\n",
            " [1.   1.75 6.2 ]\n",
            " [1.   1.75 6.2 ]\n",
            " [1.   1.75 6.1 ]]\n"
          ]
        }
      ]
    },
    {
      "cell_type": "code",
      "metadata": {
        "colab": {
          "base_uri": "https://localhost:8080/"
        },
        "id": "-tiVHoyvv_bq",
        "outputId": "73cba63f-b390-4330-f7be-e9dbcb65892d"
      },
      "source": [
        "#now computing the coefficient matrix\n",
        "#the np.dot() method is used for multiplication of matrices\n",
        "#B=((X.transpose()*X)^(-1))*X.transpose()*y\n",
        "result=np.linalg.inv(np.dot(X.transpose(), X))\n",
        "#to make y a column vector\n",
        "y=y.reshape(-1, 1)\n",
        "result=np.dot(result, X.transpose())\n",
        "#the coefficient matrix\n",
        "beta_matrix=np.dot(result, y)\n",
        "beta_matrix"
      ],
      "execution_count": 42,
      "outputs": [
        {
          "output_type": "execute_result",
          "data": {
            "text/plain": [
              "array([[1798.40397763],\n",
              "       [ 345.54008701],\n",
              "       [-250.14657137]])"
            ]
          },
          "metadata": {},
          "execution_count": 42
        }
      ]
    },
    {
      "cell_type": "code",
      "metadata": {
        "colab": {
          "base_uri": "https://localhost:8080/"
        },
        "id": "65M_3cs7d2X0",
        "outputId": "4832f63e-ee10-40fd-fcae-3b6fe504adb6"
      },
      "source": [
        "#the coefficients\n",
        "b0=beta_matrix[0]\n",
        "b1=beta_matrix[1]\n",
        "b2=beta_matrix[2]"
      ],
      "execution_count": 46,
      "outputs": [
        {
          "output_type": "execute_result",
          "data": {
            "text/plain": [
              "array([1798.40397763])"
            ]
          },
          "metadata": {},
          "execution_count": 46
        }
      ]
    },
    {
      "cell_type": "code",
      "metadata": {
        "colab": {
          "base_uri": "https://localhost:8080/"
        },
        "id": "gRuxCVnLfL-g",
        "outputId": "160a657d-157f-48b9-f990-ba8aee64be4d"
      },
      "source": [
        "#the obtained line is given by\n",
        "#y= b0 + b1*x1 + b2*x2\n",
        "#now predict the output when x1=1.5 and x2=6.8\n",
        "stock_price= b0 + b1*1.5 + b2*6.8\n",
        "print(stock_price)"
      ],
      "execution_count": 47,
      "outputs": [
        {
          "output_type": "stream",
          "name": "stdout",
          "text": [
            "[615.71742283]\n"
          ]
        }
      ]
    }
  ]
}