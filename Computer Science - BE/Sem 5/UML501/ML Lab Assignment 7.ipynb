{
  "nbformat": 4,
  "nbformat_minor": 0,
  "metadata": {
    "colab": {
      "name": "Swapnil_101967003_Assignment7.ipynb",
      "provenance": [],
      "collapsed_sections": []
    },
    "kernelspec": {
      "name": "python3",
      "display_name": "Python 3"
    },
    "language_info": {
      "name": "python"
    }
  },
  "cells": [
    {
      "cell_type": "code",
      "metadata": {
        "id": "mahZ-uvCAGA8"
      },
      "source": [
        "import pandas as pd\n",
        "import numpy as np\n",
        "from sklearn.naive_bayes import GaussianNB\n",
        "from sklearn.model_selection import train_test_split\n",
        "from sklearn.datasets import load_iris"
      ],
      "execution_count": null,
      "outputs": []
    },
    {
      "cell_type": "code",
      "metadata": {
        "id": "z38v6g6qAKvC"
      },
      "source": [
        "dataset = load_iris()\n",
        "df = pd.DataFrame(data=np.c_[dataset.data,dataset.target],columns=np.append(dataset.feature_names,[\"target\"]))\n",
        "df\n",
        "X = dataset.data\n",
        "Y = dataset.target"
      ],
      "execution_count": null,
      "outputs": []
    },
    {
      "cell_type": "code",
      "metadata": {
        "id": "lAYkZHGQAYG3"
      },
      "source": [
        "#Splitting\n",
        "\n",
        "X_train,X_test,Y_train,Y_test = train_test_split(X,Y,test_size = 0.2,random_state = 41)"
      ],
      "execution_count": null,
      "outputs": []
    },
    {
      "cell_type": "code",
      "metadata": {
        "colab": {
          "base_uri": "https://localhost:8080/"
        },
        "id": "byXHkfOdAizk",
        "outputId": "acafec2d-f16d-4467-eb69-432074c45f98"
      },
      "source": [
        "#Prediction\n",
        "\n",
        "clf = GaussianNB()\n",
        "clf.fit(X_train,Y_train)\n",
        "Y_label = clf.predict(X_test)\n",
        "print(Y_label) \n",
        "print(Y_test)"
      ],
      "execution_count": null,
      "outputs": [
        {
          "output_type": "stream",
          "name": "stdout",
          "text": [
            "[1 2 2 1 2 1 2 1 2 2 2 0 0 1 0 1 0 1 0 0 1 2 0 0 1 1 1 1 0 1]\n",
            "[2 2 2 1 2 1 2 1 2 2 2 0 0 1 0 2 0 1 0 0 1 2 0 0 1 1 1 1 0 1]\n"
          ]
        }
      ]
    },
    {
      "cell_type": "code",
      "metadata": {
        "colab": {
          "base_uri": "https://localhost:8080/"
        },
        "id": "tlIkpshKA6Ud",
        "outputId": "e8c2d6a5-f8e3-495d-939e-253b3cb429b7"
      },
      "source": [
        "#Performace Evaluation of the Classifier\n",
        "from sklearn import metrics\n",
        "print(metrics.classification_report(Y_test,Y_label))\n",
        "conf_mat = metrics.confusion_matrix(Y_test,Y_label)\n",
        "print(\"Confusion Matrix:\\n\",conf_mat)\n",
        "\n",
        "print(len(conf_mat))\n",
        "curr_class=0\n",
        "for curr_class in range(len(conf_mat)):\n",
        "  print(\"Metrics for class \",curr_class)\n",
        "  TP,TN,FP,FN = 0,0,0,0\n",
        "  for i in range(len(conf_mat)):\n",
        "    for j in range(len(conf_mat[0])):\n",
        "      if i==j and i==curr_class and j==curr_class:\n",
        "        TP+=conf_mat[i][j]\n",
        "      elif i!=curr_class and j!=curr_class:\n",
        "        TN+=conf_mat[i][j]\n",
        "      elif i==curr_class and j!=curr_class:\n",
        "        FP+=conf_mat[i][j]\n",
        "      elif j==curr_class and i!=curr_class:\n",
        "        FN+=conf_mat[i][j]\n",
        "  print(\"TP:\",TP,\"TN:\",TN,\"FP:\",FP,\"FN:\",FN)\n",
        "  TPR = TP/(TP+FN)\n",
        "  FPR = FP/(FP+TN)\n",
        "  FNR = 1-TPR\n",
        "  TNR = 1-FPR\n",
        "  print(\"TPR:\",TPR,\"\\nFPR:\",FPR,\"\\nFNR:\",FNR,\"\\nTNR\",TNR,\"\\n\\n\")"
      ],
      "execution_count": null,
      "outputs": [
        {
          "output_type": "stream",
          "name": "stdout",
          "text": [
            "              precision    recall  f1-score   support\n",
            "\n",
            "           0       1.00      1.00      1.00         9\n",
            "           1       0.85      1.00      0.92        11\n",
            "           2       1.00      0.80      0.89        10\n",
            "\n",
            "    accuracy                           0.93        30\n",
            "   macro avg       0.95      0.93      0.94        30\n",
            "weighted avg       0.94      0.93      0.93        30\n",
            "\n",
            "Confusion Matrix:\n",
            " [[ 9  0  0]\n",
            " [ 0 11  0]\n",
            " [ 0  2  8]]\n",
            "3\n",
            "Metrics for class  0\n",
            "TP: 9 TN: 21 FP: 0 FN: 0\n",
            "TPR: 1.0 \n",
            "FPR: 0.0 \n",
            "FNR: 0.0 \n",
            "TNR 1.0 \n",
            "\n",
            "\n",
            "Metrics for class  1\n",
            "TP: 11 TN: 17 FP: 0 FN: 2\n",
            "TPR: 0.8461538461538461 \n",
            "FPR: 0.0 \n",
            "FNR: 0.15384615384615385 \n",
            "TNR 1.0 \n",
            "\n",
            "\n",
            "Metrics for class  2\n",
            "TP: 8 TN: 20 FP: 2 FN: 0\n",
            "TPR: 1.0 \n",
            "FPR: 0.09090909090909091 \n",
            "FNR: 0.0 \n",
            "TNR 0.9090909090909091 \n",
            "\n",
            "\n"
          ]
        }
      ]
    }
  ]
}