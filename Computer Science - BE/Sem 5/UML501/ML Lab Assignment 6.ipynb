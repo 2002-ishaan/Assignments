{
  "nbformat": 4,
  "nbformat_minor": 0,
  "metadata": {
    "colab": {
      "name": "101967003_Swapnil_Assignment6.ipynb",
      "provenance": [],
      "collapsed_sections": []
    },
    "kernelspec": {
      "name": "python3",
      "display_name": "Python 3"
    },
    "language_info": {
      "name": "python"
    }
  },
  "cells": [
    {
      "cell_type": "code",
      "metadata": {
        "id": "kKlrDkGpzalJ",
        "colab": {
          "base_uri": "https://localhost:8080/",
          "height": 423
        },
        "outputId": "269b0b72-f693-45d8-ca91-4465c656ccfd"
      },
      "source": [
        "import pandas as pd\n",
        "from sklearn.datasets import load_iris\n",
        "iris = load_iris()\n",
        "df = pd.DataFrame(data=iris.data, columns=[\"SepalLength\",\"SepalWidth\",\"PetalLength\",\"PetalWidth\"])\n",
        "df[\"Species\"]=iris.target\n",
        "df"
      ],
      "execution_count": 1,
      "outputs": [
        {
          "output_type": "execute_result",
          "data": {
            "text/html": [
              "<div>\n",
              "<style scoped>\n",
              "    .dataframe tbody tr th:only-of-type {\n",
              "        vertical-align: middle;\n",
              "    }\n",
              "\n",
              "    .dataframe tbody tr th {\n",
              "        vertical-align: top;\n",
              "    }\n",
              "\n",
              "    .dataframe thead th {\n",
              "        text-align: right;\n",
              "    }\n",
              "</style>\n",
              "<table border=\"1\" class=\"dataframe\">\n",
              "  <thead>\n",
              "    <tr style=\"text-align: right;\">\n",
              "      <th></th>\n",
              "      <th>SepalLength</th>\n",
              "      <th>SepalWidth</th>\n",
              "      <th>PetalLength</th>\n",
              "      <th>PetalWidth</th>\n",
              "      <th>Species</th>\n",
              "    </tr>\n",
              "  </thead>\n",
              "  <tbody>\n",
              "    <tr>\n",
              "      <th>0</th>\n",
              "      <td>5.1</td>\n",
              "      <td>3.5</td>\n",
              "      <td>1.4</td>\n",
              "      <td>0.2</td>\n",
              "      <td>0</td>\n",
              "    </tr>\n",
              "    <tr>\n",
              "      <th>1</th>\n",
              "      <td>4.9</td>\n",
              "      <td>3.0</td>\n",
              "      <td>1.4</td>\n",
              "      <td>0.2</td>\n",
              "      <td>0</td>\n",
              "    </tr>\n",
              "    <tr>\n",
              "      <th>2</th>\n",
              "      <td>4.7</td>\n",
              "      <td>3.2</td>\n",
              "      <td>1.3</td>\n",
              "      <td>0.2</td>\n",
              "      <td>0</td>\n",
              "    </tr>\n",
              "    <tr>\n",
              "      <th>3</th>\n",
              "      <td>4.6</td>\n",
              "      <td>3.1</td>\n",
              "      <td>1.5</td>\n",
              "      <td>0.2</td>\n",
              "      <td>0</td>\n",
              "    </tr>\n",
              "    <tr>\n",
              "      <th>4</th>\n",
              "      <td>5.0</td>\n",
              "      <td>3.6</td>\n",
              "      <td>1.4</td>\n",
              "      <td>0.2</td>\n",
              "      <td>0</td>\n",
              "    </tr>\n",
              "    <tr>\n",
              "      <th>...</th>\n",
              "      <td>...</td>\n",
              "      <td>...</td>\n",
              "      <td>...</td>\n",
              "      <td>...</td>\n",
              "      <td>...</td>\n",
              "    </tr>\n",
              "    <tr>\n",
              "      <th>145</th>\n",
              "      <td>6.7</td>\n",
              "      <td>3.0</td>\n",
              "      <td>5.2</td>\n",
              "      <td>2.3</td>\n",
              "      <td>2</td>\n",
              "    </tr>\n",
              "    <tr>\n",
              "      <th>146</th>\n",
              "      <td>6.3</td>\n",
              "      <td>2.5</td>\n",
              "      <td>5.0</td>\n",
              "      <td>1.9</td>\n",
              "      <td>2</td>\n",
              "    </tr>\n",
              "    <tr>\n",
              "      <th>147</th>\n",
              "      <td>6.5</td>\n",
              "      <td>3.0</td>\n",
              "      <td>5.2</td>\n",
              "      <td>2.0</td>\n",
              "      <td>2</td>\n",
              "    </tr>\n",
              "    <tr>\n",
              "      <th>148</th>\n",
              "      <td>6.2</td>\n",
              "      <td>3.4</td>\n",
              "      <td>5.4</td>\n",
              "      <td>2.3</td>\n",
              "      <td>2</td>\n",
              "    </tr>\n",
              "    <tr>\n",
              "      <th>149</th>\n",
              "      <td>5.9</td>\n",
              "      <td>3.0</td>\n",
              "      <td>5.1</td>\n",
              "      <td>1.8</td>\n",
              "      <td>2</td>\n",
              "    </tr>\n",
              "  </tbody>\n",
              "</table>\n",
              "<p>150 rows × 5 columns</p>\n",
              "</div>"
            ],
            "text/plain": [
              "     SepalLength  SepalWidth  PetalLength  PetalWidth  Species\n",
              "0            5.1         3.5          1.4         0.2        0\n",
              "1            4.9         3.0          1.4         0.2        0\n",
              "2            4.7         3.2          1.3         0.2        0\n",
              "3            4.6         3.1          1.5         0.2        0\n",
              "4            5.0         3.6          1.4         0.2        0\n",
              "..           ...         ...          ...         ...      ...\n",
              "145          6.7         3.0          5.2         2.3        2\n",
              "146          6.3         2.5          5.0         1.9        2\n",
              "147          6.5         3.0          5.2         2.0        2\n",
              "148          6.2         3.4          5.4         2.3        2\n",
              "149          5.9         3.0          5.1         1.8        2\n",
              "\n",
              "[150 rows x 5 columns]"
            ]
          },
          "metadata": {},
          "execution_count": 1
        }
      ]
    },
    {
      "cell_type": "code",
      "metadata": {
        "colab": {
          "base_uri": "https://localhost:8080/"
        },
        "id": "lvyGZPTNqSBq",
        "outputId": "2c19c0e2-8928-4775-a4d5-729be1744c53"
      },
      "source": [
        "df.info()"
      ],
      "execution_count": null,
      "outputs": [
        {
          "output_type": "stream",
          "name": "stdout",
          "text": [
            "<class 'pandas.core.frame.DataFrame'>\n",
            "RangeIndex: 150 entries, 0 to 149\n",
            "Data columns (total 5 columns):\n",
            " #   Column       Non-Null Count  Dtype  \n",
            "---  ------       --------------  -----  \n",
            " 0   SepalLength  150 non-null    float64\n",
            " 1   SepalWidth   150 non-null    float64\n",
            " 2   PetalLength  150 non-null    float64\n",
            " 3   PetalWidth   150 non-null    float64\n",
            " 4   Species      150 non-null    int64  \n",
            "dtypes: float64(4), int64(1)\n",
            "memory usage: 6.0 KB\n"
          ]
        }
      ]
    },
    {
      "cell_type": "code",
      "metadata": {
        "colab": {
          "base_uri": "https://localhost:8080/",
          "height": 325
        },
        "id": "FbcU8C-0zgSx",
        "outputId": "e93b7eb5-43ac-47d2-9af2-268e46a46513"
      },
      "source": [
        "import missingno as msn\n",
        "msn.bar(df.iloc[:,0:13])"
      ],
      "execution_count": null,
      "outputs": [
        {
          "output_type": "execute_result",
          "data": {
            "text/plain": [
              "<matplotlib.axes._subplots.AxesSubplot at 0x7fa2f6928fd0>"
            ]
          },
          "metadata": {},
          "execution_count": 4
        },
        {
          "output_type": "display_data",
          "data": {
            "image/png": "[encoded data removed]",
            "text/plain": [
              "<Figure size 1800x720 with 3 Axes>"
            ]
          },
          "metadata": {
            "needs_background": "light"
          }
        }
      ]
    },
    {
      "cell_type": "code",
      "metadata": {
        "colab": {
          "base_uri": "https://localhost:8080/",
          "height": 337
        },
        "id": "15c7wCQSzgPo",
        "outputId": "a2f612a3-26f9-4c33-db1d-d9e0558b3c0b"
      },
      "source": [
        "import seaborn as sns\n",
        "sns.heatmap(df.iloc[:,:13].corr(),annot=True)"
      ],
      "execution_count": null,
      "outputs": [
        {
          "output_type": "execute_result",
          "data": {
            "text/plain": [
              "<matplotlib.axes._subplots.AxesSubplot at 0x7fa2ed0f97d0>"
            ]
          },
          "metadata": {},
          "execution_count": 8
        },
        {
          "output_type": "display_data",
          "data": {
            "image/png": "[encoded data removed]",
            "text/plain": [
              "<Figure size 432x288 with 2 Axes>"
            ]
          },
          "metadata": {
            "needs_background": "light"
          }
        }
      ]
    },
    {
      "cell_type": "code",
      "metadata": {
        "colab": {
          "base_uri": "https://localhost:8080/"
        },
        "id": "B93v5D3yzgMr",
        "outputId": "87740913-f593-4fdc-c21e-c39026205eb5"
      },
      "source": [
        "from sklearn.preprocessing import StandardScaler\n",
        "import numpy as np\n",
        "X=df.iloc[:,0:3]\n",
        "Y=df.iloc[:,4]\n",
        "scaler=StandardScaler()\n",
        "X_scaled=scaler.fit_transform(X)\n",
        "X_scaled=np.insert(X_scaled,0,values=1,axis=1)\n",
        "X_scaled"
      ],
      "execution_count": null,
      "outputs": [
        {
          "output_type": "execute_result",
          "data": {
            "text/plain": [
              "array([[ 1.        , -0.90068117,  1.01900435, -1.34022653],\n",
              "       [ 1.        , -1.14301691, -0.13197948, -1.34022653],\n",
              "       [ 1.        , -1.38535265,  0.32841405, -1.39706395],\n",
              "       [ 1.        , -1.50652052,  0.09821729, -1.2833891 ],\n",
              "       [ 1.        , -1.02184904,  1.24920112, -1.34022653],\n",
              "       [ 1.        , -0.53717756,  1.93979142, -1.16971425],\n",
              "       [ 1.        , -1.50652052,  0.78880759, -1.34022653],\n",
              "       [ 1.        , -1.02184904,  0.78880759, -1.2833891 ],\n",
              "       [ 1.        , -1.74885626, -0.36217625, -1.34022653],\n",
              "       [ 1.        , -1.14301691,  0.09821729, -1.2833891 ],\n",
              "       [ 1.        , -0.53717756,  1.47939788, -1.2833891 ],\n",
              "       [ 1.        , -1.26418478,  0.78880759, -1.22655167],\n",
              "       [ 1.        , -1.26418478, -0.13197948, -1.34022653],\n",
              "       [ 1.        , -1.87002413, -0.13197948, -1.51073881],\n",
              "       [ 1.        , -0.05250608,  2.16998818, -1.45390138],\n",
              "       [ 1.        , -0.17367395,  3.09077525, -1.2833891 ],\n",
              "       [ 1.        , -0.53717756,  1.93979142, -1.39706395],\n",
              "       [ 1.        , -0.90068117,  1.01900435, -1.34022653],\n",
              "       [ 1.        , -0.17367395,  1.70959465, -1.16971425],\n",
              "       [ 1.        , -0.90068117,  1.70959465, -1.2833891 ],\n",
              "       [ 1.        , -0.53717756,  0.78880759, -1.16971425],\n",
              "       [ 1.        , -0.90068117,  1.47939788, -1.2833891 ],\n",
              "       [ 1.        , -1.50652052,  1.24920112, -1.56757623],\n",
              "       [ 1.        , -0.90068117,  0.55861082, -1.16971425],\n",
              "       [ 1.        , -1.26418478,  0.78880759, -1.05603939],\n",
              "       [ 1.        , -1.02184904, -0.13197948, -1.22655167],\n",
              "       [ 1.        , -1.02184904,  0.78880759, -1.22655167],\n",
              "       [ 1.        , -0.7795133 ,  1.01900435, -1.2833891 ],\n",
              "       [ 1.        , -0.7795133 ,  0.78880759, -1.34022653],\n",
              "       [ 1.        , -1.38535265,  0.32841405, -1.22655167],\n",
              "       [ 1.        , -1.26418478,  0.09821729, -1.22655167],\n",
              "       [ 1.        , -0.53717756,  0.78880759, -1.2833891 ],\n",
              "       [ 1.        , -0.7795133 ,  2.40018495, -1.2833891 ],\n",
              "       [ 1.        , -0.41600969,  2.63038172, -1.34022653],\n",
              "       [ 1.        , -1.14301691,  0.09821729, -1.2833891 ],\n",
              "       [ 1.        , -1.02184904,  0.32841405, -1.45390138],\n",
              "       [ 1.        , -0.41600969,  1.01900435, -1.39706395],\n",
              "       [ 1.        , -1.14301691,  1.24920112, -1.34022653],\n",
              "       [ 1.        , -1.74885626, -0.13197948, -1.39706395],\n",
              "       [ 1.        , -0.90068117,  0.78880759, -1.2833891 ],\n",
              "       [ 1.        , -1.02184904,  1.01900435, -1.39706395],\n",
              "       [ 1.        , -1.62768839, -1.74335684, -1.39706395],\n",
              "       [ 1.        , -1.74885626,  0.32841405, -1.39706395],\n",
              "       [ 1.        , -1.02184904,  1.01900435, -1.22655167],\n",
              "       [ 1.        , -0.90068117,  1.70959465, -1.05603939],\n",
              "       [ 1.        , -1.26418478, -0.13197948, -1.34022653],\n",
              "       [ 1.        , -0.90068117,  1.70959465, -1.22655167],\n",
              "       [ 1.        , -1.50652052,  0.32841405, -1.34022653],\n",
              "       [ 1.        , -0.65834543,  1.47939788, -1.2833891 ],\n",
              "       [ 1.        , -1.02184904,  0.55861082, -1.34022653],\n",
              "       [ 1.        ,  1.40150837,  0.32841405,  0.53540856],\n",
              "       [ 1.        ,  0.67450115,  0.32841405,  0.42173371],\n",
              "       [ 1.        ,  1.2803405 ,  0.09821729,  0.64908342],\n",
              "       [ 1.        , -0.41600969, -1.74335684,  0.13754657],\n",
              "       [ 1.        ,  0.79566902, -0.59237301,  0.47857113],\n",
              "       [ 1.        , -0.17367395, -0.59237301,  0.42173371],\n",
              "       [ 1.        ,  0.55333328,  0.55861082,  0.53540856],\n",
              "       [ 1.        , -1.14301691, -1.51316008, -0.26031542],\n",
              "       [ 1.        ,  0.91683689, -0.36217625,  0.47857113],\n",
              "       [ 1.        , -0.7795133 , -0.82256978,  0.08070915],\n",
              "       [ 1.        , -1.02184904, -2.43394714, -0.14664056],\n",
              "       [ 1.        ,  0.06866179, -0.13197948,  0.25122143],\n",
              "       [ 1.        ,  0.18982966, -1.97355361,  0.13754657],\n",
              "       [ 1.        ,  0.31099753, -0.36217625,  0.53540856],\n",
              "       [ 1.        , -0.29484182, -0.36217625, -0.08980313],\n",
              "       [ 1.        ,  1.03800476,  0.09821729,  0.36489628],\n",
              "       [ 1.        , -0.29484182, -0.13197948,  0.42173371],\n",
              "       [ 1.        , -0.05250608, -0.82256978,  0.194384  ],\n",
              "       [ 1.        ,  0.4321654 , -1.97355361,  0.42173371],\n",
              "       [ 1.        , -0.29484182, -1.28296331,  0.08070915],\n",
              "       [ 1.        ,  0.06866179,  0.32841405,  0.59224599],\n",
              "       [ 1.        ,  0.31099753, -0.59237301,  0.13754657],\n",
              "       [ 1.        ,  0.55333328, -1.28296331,  0.64908342],\n",
              "       [ 1.        ,  0.31099753, -0.59237301,  0.53540856],\n",
              "       [ 1.        ,  0.67450115, -0.36217625,  0.30805885],\n",
              "       [ 1.        ,  0.91683689, -0.13197948,  0.36489628],\n",
              "       [ 1.        ,  1.15917263, -0.59237301,  0.59224599],\n",
              "       [ 1.        ,  1.03800476, -0.13197948,  0.70592084],\n",
              "       [ 1.        ,  0.18982966, -0.36217625,  0.42173371],\n",
              "       [ 1.        , -0.17367395, -1.05276654, -0.14664056],\n",
              "       [ 1.        , -0.41600969, -1.51316008,  0.02387172],\n",
              "       [ 1.        , -0.41600969, -1.51316008, -0.03296571],\n",
              "       [ 1.        , -0.05250608, -0.82256978,  0.08070915],\n",
              "       [ 1.        ,  0.18982966, -0.82256978,  0.76275827],\n",
              "       [ 1.        , -0.53717756, -0.13197948,  0.42173371],\n",
              "       [ 1.        ,  0.18982966,  0.78880759,  0.42173371],\n",
              "       [ 1.        ,  1.03800476,  0.09821729,  0.53540856],\n",
              "       [ 1.        ,  0.55333328, -1.74335684,  0.36489628],\n",
              "       [ 1.        , -0.29484182, -0.13197948,  0.194384  ],\n",
              "       [ 1.        , -0.41600969, -1.28296331,  0.13754657],\n",
              "       [ 1.        , -0.41600969, -1.05276654,  0.36489628],\n",
              "       [ 1.        ,  0.31099753, -0.13197948,  0.47857113],\n",
              "       [ 1.        , -0.05250608, -1.05276654,  0.13754657],\n",
              "       [ 1.        , -1.02184904, -1.74335684, -0.26031542],\n",
              "       [ 1.        , -0.29484182, -0.82256978,  0.25122143],\n",
              "       [ 1.        , -0.17367395, -0.13197948,  0.25122143],\n",
              "       [ 1.        , -0.17367395, -0.36217625,  0.25122143],\n",
              "       [ 1.        ,  0.4321654 , -0.36217625,  0.30805885],\n",
              "       [ 1.        , -0.90068117, -1.28296331, -0.4308277 ],\n",
              "       [ 1.        , -0.17367395, -0.59237301,  0.194384  ],\n",
              "       [ 1.        ,  0.55333328,  0.55861082,  1.27429511],\n",
              "       [ 1.        , -0.05250608, -0.82256978,  0.76275827],\n",
              "       [ 1.        ,  1.52267624, -0.13197948,  1.21745768],\n",
              "       [ 1.        ,  0.55333328, -0.36217625,  1.0469454 ],\n",
              "       [ 1.        ,  0.79566902, -0.13197948,  1.16062026],\n",
              "       [ 1.        ,  2.12851559, -0.13197948,  1.61531967],\n",
              "       [ 1.        , -1.14301691, -1.28296331,  0.42173371],\n",
              "       [ 1.        ,  1.76501198, -0.36217625,  1.44480739],\n",
              "       [ 1.        ,  1.03800476, -1.28296331,  1.16062026],\n",
              "       [ 1.        ,  1.64384411,  1.24920112,  1.33113254],\n",
              "       [ 1.        ,  0.79566902,  0.32841405,  0.76275827],\n",
              "       [ 1.        ,  0.67450115, -0.82256978,  0.87643312],\n",
              "       [ 1.        ,  1.15917263, -0.13197948,  0.99010798],\n",
              "       [ 1.        , -0.17367395, -1.28296331,  0.70592084],\n",
              "       [ 1.        , -0.05250608, -0.59237301,  0.76275827],\n",
              "       [ 1.        ,  0.67450115,  0.32841405,  0.87643312],\n",
              "       [ 1.        ,  0.79566902, -0.13197948,  0.99010798],\n",
              "       [ 1.        ,  2.24968346,  1.70959465,  1.6721571 ],\n",
              "       [ 1.        ,  2.24968346, -1.05276654,  1.78583195],\n",
              "       [ 1.        ,  0.18982966, -1.97355361,  0.70592084],\n",
              "       [ 1.        ,  1.2803405 ,  0.32841405,  1.10378283],\n",
              "       [ 1.        , -0.29484182, -0.59237301,  0.64908342],\n",
              "       [ 1.        ,  2.24968346, -0.59237301,  1.6721571 ],\n",
              "       [ 1.        ,  0.55333328, -0.82256978,  0.64908342],\n",
              "       [ 1.        ,  1.03800476,  0.55861082,  1.10378283],\n",
              "       [ 1.        ,  1.64384411,  0.32841405,  1.27429511],\n",
              "       [ 1.        ,  0.4321654 , -0.59237301,  0.59224599],\n",
              "       [ 1.        ,  0.31099753, -0.13197948,  0.64908342],\n",
              "       [ 1.        ,  0.67450115, -0.59237301,  1.0469454 ],\n",
              "       [ 1.        ,  1.64384411, -0.13197948,  1.16062026],\n",
              "       [ 1.        ,  1.88617985, -0.59237301,  1.33113254],\n",
              "       [ 1.        ,  2.4920192 ,  1.70959465,  1.50164482],\n",
              "       [ 1.        ,  0.67450115, -0.59237301,  1.0469454 ],\n",
              "       [ 1.        ,  0.55333328, -0.59237301,  0.76275827],\n",
              "       [ 1.        ,  0.31099753, -1.05276654,  1.0469454 ],\n",
              "       [ 1.        ,  2.24968346, -0.13197948,  1.33113254],\n",
              "       [ 1.        ,  0.55333328,  0.78880759,  1.0469454 ],\n",
              "       [ 1.        ,  0.67450115,  0.09821729,  0.99010798],\n",
              "       [ 1.        ,  0.18982966, -0.13197948,  0.59224599],\n",
              "       [ 1.        ,  1.2803405 ,  0.09821729,  0.93327055],\n",
              "       [ 1.        ,  1.03800476,  0.09821729,  1.0469454 ],\n",
              "       [ 1.        ,  1.2803405 ,  0.09821729,  0.76275827],\n",
              "       [ 1.        , -0.05250608, -0.82256978,  0.76275827],\n",
              "       [ 1.        ,  1.15917263,  0.32841405,  1.21745768],\n",
              "       [ 1.        ,  1.03800476,  0.55861082,  1.10378283],\n",
              "       [ 1.        ,  1.03800476, -0.13197948,  0.8195957 ],\n",
              "       [ 1.        ,  0.55333328, -1.28296331,  0.70592084],\n",
              "       [ 1.        ,  0.79566902, -0.13197948,  0.8195957 ],\n",
              "       [ 1.        ,  0.4321654 ,  0.78880759,  0.93327055],\n",
              "       [ 1.        ,  0.06866179, -0.13197948,  0.76275827]])"
            ]
          },
          "metadata": {},
          "execution_count": 9
        }
      ]
    },
    {
      "cell_type": "code",
      "metadata": {
        "id": "nsOSYpQZzgJx"
      },
      "source": [
        "from sklearn.model_selection import train_test_split\n",
        "X_train, X_test, Y_train, Y_test = train_test_split(X_scaled, Y, test_size=0.3, random_state=42)"
      ],
      "execution_count": null,
      "outputs": []
    },
    {
      "cell_type": "code",
      "metadata": {
        "id": "GpmugPwzzgG7",
        "colab": {
          "base_uri": "https://localhost:8080/"
        },
        "outputId": "d3d00406-7636-4418-9db8-e9d55c884a18"
      },
      "source": [
        "n=1000\n",
        "alpha=0.01\n",
        "m,k=X_train.shape\n",
        "beta=np.zeros(k)\n",
        "for i in range(n):\n",
        "    cost_gradient=np.zeros(k)\n",
        "    z=X_train.dot(beta)\n",
        "    predicted=1/(1+np.exp(-z))\n",
        "    difference=predicted-Y_train\n",
        "    for j in range(k):\n",
        "        cost_gradient[j]=np.sum(difference.dot(X_train[:,j]))\n",
        "    for j in range(k):\n",
        "        beta[j]=beta[j]-(alpha/m)*cost_gradient[j]\n",
        "print(beta)"
      ],
      "execution_count": null,
      "outputs": [
        {
          "output_type": "stream",
          "name": "stdout",
          "text": [
            "[ 3.88283251  3.29143416 -1.19656536  4.12509112]\n"
          ]
        }
      ]
    },
    {
      "cell_type": "code",
      "metadata": {
        "colab": {
          "base_uri": "https://localhost:8080/"
        },
        "id": "GbL5cNi7rXmm",
        "outputId": "58763497-a485-4a17-f8c8-8d3f25891fce"
      },
      "source": [
        "Y_predict=1/(1+np.exp(-(X_test.dot(beta))))\n",
        "Y_label=np.zeros(len(Y_predict))\n",
        "for i in range(len(Y_predict)):\n",
        "    if(Y_predict[i]>=0.5):\n",
        "        Y_label[i]=1\n",
        "Y_label"
      ],
      "execution_count": null,
      "outputs": [
        {
          "output_type": "execute_result",
          "data": {
            "text/plain": [
              "array([1., 0., 1., 1., 1., 0., 1., 1., 1., 1., 1., 0., 0., 0., 0., 1., 1.,\n",
              "       1., 1., 1., 0., 1., 0., 1., 1., 1., 1., 1., 0., 0., 0., 0., 1., 0.,\n",
              "       0., 1., 1., 0., 0., 0., 1., 1., 1., 0., 0.])"
            ]
          },
          "metadata": {},
          "execution_count": 12
        }
      ]
    }
  ]
}