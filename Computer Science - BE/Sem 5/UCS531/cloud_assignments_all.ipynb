{
 "cells": [
  {
   "cell_type": "markdown",
   "metadata": {
    "id": "tFnDf2FLXZFV"
   },
   "source": [
    "# Assignment 1"
   ]
  },
  {
   "cell_type": "code",
   "execution_count": null,
   "metadata": {
    "colab": {
     "base_uri": "https://localhost:8080/"
    },
    "executionInfo": {
     "elapsed": 408,
     "status": "ok",
     "timestamp": 1632507107960,
     "user": {
      "displayName": "RITIK RAJDEV",
      "photoUrl": "https://lh3.googleusercontent.com/a/default-user=s64",
      "userId": "08013551540463342687"
     },
     "user_tz": -330
    },
    "id": "70YzC42ou_sj",
    "outputId": "8ddab7e2-d97f-4ab9-da79-46e25d0433fe"
   },
   "outputs": [
    {
     "name": "stdout",
     "output_type": "stream",
     "text": [
      "Twinkle, twinkle, little star,\n",
      "\tHow I wonder what you are!\n",
      "\t\tUp above the world so high,\n",
      "\t\tLike a diamond in the sky.\n",
      "Twinkle, twinkle, little star,\n",
      "\tHow I wonder what you are!\n"
     ]
    }
   ],
   "source": [
    "string = 2 * \"\"\"Twinkle, twinkle, little star,\n",
    "\\tHow I wonder what you are!\n",
    "\\t\\tUp above the world so high,\n",
    "\\t\\tLike a diamond in the sky.\n",
    "\"\"\"\n",
    "print('\\n'.join(string.split('\\n')[:-3]))"
   ]
  },
  {
   "cell_type": "code",
   "execution_count": null,
   "metadata": {
    "colab": {
     "base_uri": "https://localhost:8080/"
    },
    "executionInfo": {
     "elapsed": 417,
     "status": "ok",
     "timestamp": 1628788215227,
     "user": {
      "displayName": "RITIK RAJDEV",
      "photoUrl": "",
      "userId": "08013551540463342687"
     },
     "user_tz": -330
    },
    "id": "k72PgKppvuMr",
    "outputId": "5ffdffee-6009-44e7-894c-65873a4a3f0f"
   },
   "outputs": [
    {
     "name": "stdout",
     "output_type": "stream",
     "text": [
      "2021-08-12 17:10:14.600443\n"
     ]
    }
   ],
   "source": [
    "from datetime import datetime\n",
    "print(datetime.now())"
   ]
  },
  {
   "cell_type": "code",
   "execution_count": null,
   "metadata": {
    "colab": {
     "base_uri": "https://localhost:8080/"
    },
    "executionInfo": {
     "elapsed": 5288,
     "status": "ok",
     "timestamp": 1628788227151,
     "user": {
      "displayName": "RITIK RAJDEV",
      "photoUrl": "",
      "userId": "08013551540463342687"
     },
     "user_tz": -330
    },
    "id": "kZuDqPsnUBvk",
    "outputId": "104e4458-9537-415b-8e16-cd6f801575a3"
   },
   "outputs": [
    {
     "name": "stdout",
     "output_type": "stream",
     "text": [
      "Radius: 10\n",
      "314.1592653589793\n"
     ]
    }
   ],
   "source": [
    "from math import pi\n",
    "def area(radius):\n",
    "    return pi * radius * radius\n",
    "print(area(float(input('Radius: '))))"
   ]
  },
  {
   "cell_type": "code",
   "execution_count": null,
   "metadata": {
    "colab": {
     "base_uri": "https://localhost:8080/"
    },
    "executionInfo": {
     "elapsed": 8815,
     "status": "ok",
     "timestamp": 1628788245903,
     "user": {
      "displayName": "RITIK RAJDEV",
      "photoUrl": "",
      "userId": "08013551540463342687"
     },
     "user_tz": -330
    },
    "id": "LNk1K4guUBvl",
    "outputId": "7c3be19c-ab85-4039-ade1-bcb9c73344ab"
   },
   "outputs": [
    {
     "name": "stdout",
     "output_type": "stream",
     "text": [
      "First Name: Ritik\n",
      "Last Name: Rajdev\n",
      "Rajdev Ritik\n"
     ]
    }
   ],
   "source": [
    "def name(first, last):\n",
    "    return last + \" \" + first\n",
    "print(name(input('First Name: '), input('Last Name: ')))"
   ]
  },
  {
   "cell_type": "code",
   "execution_count": null,
   "metadata": {
    "colab": {
     "base_uri": "https://localhost:8080/"
    },
    "executionInfo": {
     "elapsed": 3948,
     "status": "ok",
     "timestamp": 1628788252347,
     "user": {
      "displayName": "RITIK RAJDEV",
      "photoUrl": "",
      "userId": "08013551540463342687"
     },
     "user_tz": -330
    },
    "id": "o01caJuQUBvm",
    "outputId": "36482508-78fa-4795-b884-a08f4991d0e2"
   },
   "outputs": [
    {
     "name": "stdout",
     "output_type": "stream",
     "text": [
      "Filename: test.cpp\n",
      "cpp\n"
     ]
    }
   ],
   "source": [
    "def extension(filename):\n",
    "    return filename.split('.')[-1]\n",
    "print(extension(input('Filename: ')))"
   ]
  },
  {
   "cell_type": "code",
   "execution_count": null,
   "metadata": {
    "colab": {
     "base_uri": "https://localhost:8080/"
    },
    "executionInfo": {
     "elapsed": 408,
     "status": "ok",
     "timestamp": 1628788257562,
     "user": {
      "displayName": "RITIK RAJDEV",
      "photoUrl": "",
      "userId": "08013551540463342687"
     },
     "user_tz": -330
    },
    "id": "f4J4l-NYUBvm",
    "outputId": "58a89b77-1054-4a4f-caa7-6511897c4cc1"
   },
   "outputs": [
    {
     "name": "stdout",
     "output_type": "stream",
     "text": [
      "red blue\n"
     ]
    }
   ],
   "source": [
    "lst = ['red', 'yellow', 'green', 'blue']\n",
    "print(lst[0], lst[-1])"
   ]
  },
  {
   "cell_type": "code",
   "execution_count": null,
   "metadata": {
    "colab": {
     "base_uri": "https://localhost:8080/"
    },
    "executionInfo": {
     "elapsed": 2634,
     "status": "ok",
     "timestamp": 1628788289944,
     "user": {
      "displayName": "RITIK RAJDEV",
      "photoUrl": "",
      "userId": "08013551540463342687"
     },
     "user_tz": -330
    },
    "id": "Wel9OsrxUBvn",
    "outputId": "59f5034e-7db3-41a5-c26a-831dc5378236"
   },
   "outputs": [
    {
     "name": "stdout",
     "output_type": "stream",
     "text": [
      "Integer (0-9): 8\n",
      "984\n"
     ]
    }
   ],
   "source": [
    "def calc(n):\n",
    "    string = \"\"\n",
    "    s = 0\n",
    "    for _ in range(3):\n",
    "        string += n\n",
    "        s += int(string)\n",
    "    return s\n",
    "print(calc(input('Integer (0-9): ')))"
   ]
  },
  {
   "cell_type": "code",
   "execution_count": null,
   "metadata": {
    "colab": {
     "base_uri": "https://localhost:8080/"
    },
    "executionInfo": {
     "elapsed": 3274,
     "status": "ok",
     "timestamp": 1628788300099,
     "user": {
      "displayName": "RITIK RAJDEV",
      "photoUrl": "",
      "userId": "08013551540463342687"
     },
     "user_tz": -330
    },
    "id": "mGtMYtQWUBvn",
    "outputId": "4258295f-f74f-4f2b-b947-c8ee9e8b35c9"
   },
   "outputs": [
    {
     "name": "stdout",
     "output_type": "stream",
     "text": [
      "Number: 989\n",
      "True\n"
     ]
    }
   ],
   "source": [
    "def in_range(n):\n",
    "    numbers = [1000, 2000]\n",
    "    for x in numbers:\n",
    "        if x - 100 < n < x + 100:\n",
    "            return True\n",
    "    return False\n",
    "print(in_range(float(input('Number: '))))"
   ]
  },
  {
   "cell_type": "code",
   "execution_count": null,
   "metadata": {
    "colab": {
     "base_uri": "https://localhost:8080/"
    },
    "executionInfo": {
     "elapsed": 3932,
     "status": "ok",
     "timestamp": 1632507476462,
     "user": {
      "displayName": "RITIK RAJDEV",
      "photoUrl": "https://lh3.googleusercontent.com/a/default-user=s64",
      "userId": "08013551540463342687"
     },
     "user_tz": -330
    },
    "id": "NoGFaX7DUBvo",
    "outputId": "93f6568b-7aef-48ae-b786-9504be21947e"
   },
   "outputs": [
    {
     "name": "stdout",
     "output_type": "stream",
     "text": [
      "Number: 10\n",
      "10 is Even\n"
     ]
    }
   ],
   "source": [
    "number = int(input('Number: '))\n",
    "message = f\"{number} is {{}}\"\n",
    "if number % 2:\n",
    "    message = message.format('Odd')\n",
    "else:\n",
    "    message = message.format('Even')\n",
    "print(message)"
   ]
  },
  {
   "cell_type": "code",
   "execution_count": null,
   "metadata": {
    "colab": {
     "base_uri": "https://localhost:8080/"
    },
    "executionInfo": {
     "elapsed": 8614,
     "status": "ok",
     "timestamp": 1628788325472,
     "user": {
      "displayName": "RITIK RAJDEV",
      "photoUrl": "",
      "userId": "08013551540463342687"
     },
     "user_tz": -330
    },
    "id": "BDD1CkrCUBvp",
    "outputId": "8f9785d2-41e6-4ce2-a7d5-dfc13d177a5a"
   },
   "outputs": [
    {
     "name": "stdout",
     "output_type": "stream",
     "text": [
      "List (Space Seperated Numbers): 1 2 3 4 5 6 4 1 3 4\n",
      "3\n"
     ]
    }
   ],
   "source": [
    "print(input('List (Space Seperated Numbers): ').split().count(\"4\"))"
   ]
  },
  {
   "cell_type": "code",
   "execution_count": 1,
   "metadata": {
    "colab": {
     "base_uri": "https://localhost:8080/"
    },
    "executionInfo": {
     "elapsed": 4470,
     "status": "ok",
     "timestamp": 1630995596326,
     "user": {
      "displayName": "RITIK RAJDEV",
      "photoUrl": "",
      "userId": "08013551540463342687"
     },
     "user_tz": -330
    },
    "id": "hkwS1mW-UBvq",
    "outputId": "3d83980c-05b8-4feb-9e3d-0d2ce360a769"
   },
   "outputs": [
    {
     "name": "stdout",
     "output_type": "stream",
     "text": [
      "\n",
      "\n",
      "\n",
      "\n",
      "99,22,34,24,90,21,75,20,57,20,19,81,73,54,14,\b\n",
      "1,27,22,39,35,56,90,72,10,36,93,27,42,97,60,\b\n",
      "74,87,38,85,93,3,85,12,21,89,36,15,1,35,86,\b\n",
      "68,51,95,18,38,98,19,55,34,28,41,41,37,14,28,\b\n",
      "37,28,66,25,88,37,90,15,79,35,63,11,38,17,86,\b\n",
      "19,28,70,4,63,53,25,63,92,15,56,35,1,30,76,\b\n",
      "94,10,72,17,38,97,23,19,63,84,86,44,4,27,16,\b\n",
      "47,73,64,85,76,14,54,55,54,21,93,77,8,61,45,\b\n",
      "69,23,73,44,91,54,81,23,29,92,48,36,56,34,45,\b\n",
      "69,27,78,57,59,2,68,42,59,32,49,77,95,93,70,\b\n",
      "15,38,90,15,24,13,81,6,15,89,60,16,62,33,50,\b\n",
      "21,23,83,96,86,0,22,89,74,7,97,13,98,79,4,\b\n",
      "83,15,68,36,55,45,0,14,71,64,58,78,88,90,23,\b\n",
      "66,49,6,8,80,29,72,84,99,99,60,40,67,10,37,\b\n",
      "47,79,74,12,93,13,58,87,94,31,7,56,46,30,87,\b\n",
      "22,78,27,31,59,87,12,60,74,100,85,100,31,8,100,\b\n",
      "0,77,21,95,64,79,95,93,39,75,98,45,2,58,60,\b\n",
      "83,18,6,86,1,26,38,10,95,79,36,34,43,84,66,\b\n",
      "52,100,72,76,49,9,84,90,91,69,97,82,22,55,51,\b\n",
      "57,12,19,35,81,6,65,86,41,96,91,84,27,78,91,\b\n",
      "60,53,67,14,31,73,97,23,78,44,52,71,0,45,88,\b\n",
      "63,35,49,40,51,25,37,15,54,71,34,\n"
     ]
    }
   ],
   "source": [
    "# 50k 15\n",
    "from random import randint\n",
    "from pathlib import Path\n",
    "\n",
    "col_numbers = 15\n",
    "row_numbers = 50000\n",
    "col_min_values = [0]* 15\n",
    "col_max_values = [100]* 15\n",
    "# for i in range(col_numbers):\n",
    "#     col_min_values.append(int(input(f'Min {i + 1}: ')))\n",
    "#     col_max_values.append(int(input(f'Max {i + 1}: ')))\n",
    "\n",
    "with open('./abc.csv', 'w') as file:\n",
    "    for _ in range(row_numbers):\n",
    "        for i in range(col_numbers):\n",
    "            random_number = randint(col_min_values[i], col_max_values[i])\n",
    "            file.write(f'{random_number}' + ',')\n",
    "        file.write('\\b')\n",
    "        file.write('\\n')\n",
    "print('\\n\\n\\n')\n",
    "print(Path('./abc.csv').read_text()[:1000])\n"
   ]
  },
  {
   "cell_type": "markdown",
   "metadata": {
    "id": "H3bHv5Qd8bMM"
   },
   "source": [
    "# Assignment 2\n"
   ]
  },
  {
   "cell_type": "code",
   "execution_count": null,
   "metadata": {
    "colab": {
     "base_uri": "https://localhost:8080/"
    },
    "executionInfo": {
     "elapsed": 6564,
     "status": "ok",
     "timestamp": 1629184351705,
     "user": {
      "displayName": "RITIK RAJDEV",
      "photoUrl": "",
      "userId": "08013551540463342687"
     },
     "user_tz": -330
    },
    "id": "8Wwi-oOM8ei7",
    "outputId": "396253b0-615d-4e11-b250-120e8ca83f05"
   },
   "outputs": [
    {
     "name": "stdout",
     "output_type": "stream",
     "text": [
      "Character: a\n",
      "True\n"
     ]
    }
   ],
   "source": [
    "vowels = \"aeiou\"\n",
    "print(input('Character: ') in vowels)"
   ]
  },
  {
   "cell_type": "code",
   "execution_count": null,
   "metadata": {
    "colab": {
     "base_uri": "https://localhost:8080/"
    },
    "executionInfo": {
     "elapsed": 14,
     "status": "ok",
     "timestamp": 1629184880605,
     "user": {
      "displayName": "RITIK RAJDEV",
      "photoUrl": "",
      "userId": "08013551540463342687"
     },
     "user_tz": -330
    },
    "id": "5g_mDu9C9Es4",
    "outputId": "1e97bdc6-e3c8-4f38-c87a-da3ddf80fa16"
   },
   "outputs": [
    {
     "name": "stdout",
     "output_type": "stream",
     "text": [
      "white\n",
      "black\n"
     ]
    }
   ],
   "source": [
    "color_list_1 = set(['white', 'black', 'red'])\n",
    "color_list_2 = set(['red', 'green'])\n",
    "\n",
    "for i in color_list_1:\n",
    "  if i not in color_list_2:\n",
    "    print(i)"
   ]
  },
  {
   "cell_type": "code",
   "execution_count": null,
   "metadata": {
    "colab": {
     "base_uri": "https://localhost:8080/"
    },
    "executionInfo": {
     "elapsed": 1344,
     "status": "ok",
     "timestamp": 1629184919416,
     "user": {
      "displayName": "RITIK RAJDEV",
      "photoUrl": "",
      "userId": "08013551540463342687"
     },
     "user_tz": -330
    },
    "id": "ep1Sp4yy_Gox",
    "outputId": "f591de22-c51f-4746-af8e-a4d0c778a09b"
   },
   "outputs": [
    {
     "name": "stdout",
     "output_type": "stream",
     "text": [
      "900\n"
     ]
    }
   ],
   "source": [
    "x = 10\n",
    "y = 20\n",
    "print((x+y)**2)"
   ]
  },
  {
   "cell_type": "code",
   "execution_count": null,
   "metadata": {
    "colab": {
     "base_uri": "https://localhost:8080/"
    },
    "executionInfo": {
     "elapsed": 4553,
     "status": "ok",
     "timestamp": 1629185074898,
     "user": {
      "displayName": "RITIK RAJDEV",
      "photoUrl": "",
      "userId": "08013551540463342687"
     },
     "user_tz": -330
    },
    "id": "3j5Iz5eg_Q_j",
    "outputId": "3f7b5768-0847-45a6-af1c-5231847160c6"
   },
   "outputs": [
    {
     "name": "stdout",
     "output_type": "stream",
     "text": [
      "123456\n",
      "21\n"
     ]
    }
   ],
   "source": [
    "print(sum([int(x) for x in input()]))"
   ]
  },
  {
   "cell_type": "code",
   "execution_count": null,
   "metadata": {
    "colab": {
     "base_uri": "https://localhost:8080/"
    },
    "executionInfo": {
     "elapsed": 5673,
     "status": "ok",
     "timestamp": 1629196000816,
     "user": {
      "displayName": "RITIK RAJDEV",
      "photoUrl": "",
      "userId": "08013551540463342687"
     },
     "user_tz": -330
    },
    "id": "Zp4bKs-r_3Nc",
    "outputId": "4a1d70fe-eac6-4a7d-e262-ec41b3a84629"
   },
   "outputs": [
    {
     "name": "stdout",
     "output_type": "stream",
     "text": [
      "Enter String: Hello\n",
      "5\n"
     ]
    }
   ],
   "source": [
    "print(len(input('Enter String: ')))"
   ]
  },
  {
   "cell_type": "code",
   "execution_count": null,
   "metadata": {
    "colab": {
     "base_uri": "https://localhost:8080/"
    },
    "executionInfo": {
     "elapsed": 5833,
     "status": "ok",
     "timestamp": 1629196324120,
     "user": {
      "displayName": "RITIK RAJDEV",
      "photoUrl": "",
      "userId": "08013551540463342687"
     },
     "user_tz": -330
    },
    "id": "-uXSMHYNpejp",
    "outputId": "16bfa70a-fc96-4254-f853-1810c9403f44"
   },
   "outputs": [
    {
     "name": "stdout",
     "output_type": "stream",
     "text": [
      "abc xyz\n",
      "xyc abz\n"
     ]
    }
   ],
   "source": [
    "strings = input().split()\n",
    "strings[0], strings[1] = strings[1][0:1+1] + strings[0][2:], strings[0][0:1+1] + strings[1][2:]\n",
    "print(' '.join(strings))"
   ]
  },
  {
   "cell_type": "code",
   "execution_count": null,
   "metadata": {
    "colab": {
     "base_uri": "https://localhost:8080/"
    },
    "executionInfo": {
     "elapsed": 8278,
     "status": "ok",
     "timestamp": 1629196521006,
     "user": {
      "displayName": "RITIK RAJDEV",
      "photoUrl": "",
      "userId": "08013551540463342687"
     },
     "user_tz": -330
    },
    "id": "7SrHe6waqyjw",
    "outputId": "6da66426-007b-469d-a9fd-e64e57f5ca28"
   },
   "outputs": [
    {
     "name": "stdout",
     "output_type": "stream",
     "text": [
      "String: Hello\n",
      "N: 1\n",
      "Hllo\n"
     ]
    }
   ],
   "source": [
    "string = input('String: ')\n",
    "n = int(input('N: '))\n",
    "print(string[:n] + string[n+1:])"
   ]
  },
  {
   "cell_type": "code",
   "execution_count": null,
   "metadata": {
    "colab": {
     "base_uri": "https://localhost:8080/"
    },
    "executionInfo": {
     "elapsed": 4321,
     "status": "ok",
     "timestamp": 1629196596168,
     "user": {
      "displayName": "RITIK RAJDEV",
      "photoUrl": "",
      "userId": "08013551540463342687"
     },
     "user_tz": -330
    },
    "id": "5L4qndTfrhYT",
    "outputId": "bae8303c-3cec-4dcf-9db3-9968f25abdd0"
   },
   "outputs": [
    {
     "name": "stdout",
     "output_type": "stream",
     "text": [
      "String: Hello\n",
      "HELLO\n",
      "hello\n"
     ]
    }
   ],
   "source": [
    "string = input('String: ')\n",
    "print(string.upper())\n",
    "print(string.lower())"
   ]
  },
  {
   "cell_type": "code",
   "execution_count": null,
   "metadata": {
    "colab": {
     "base_uri": "https://localhost:8080/"
    },
    "executionInfo": {
     "elapsed": 8071,
     "status": "ok",
     "timestamp": 1629196745598,
     "user": {
      "displayName": "RITIK RAJDEV",
      "photoUrl": "",
      "userId": "08013551540463342687"
     },
     "user_tz": -330
    },
    "id": "88POeaxjrzyA",
    "outputId": "3532e0ed-6521-4fc3-da6c-29be9517ba23"
   },
   "outputs": [
    {
     "name": "stdout",
     "output_type": "stream",
     "text": [
      "String 1 : Heello\n",
      "String 2 : YO\n",
      "HeeYOllo\n"
     ]
    }
   ],
   "source": [
    "string1 = input('String 1 : ')\n",
    "string2 = input('String 2 : ')\n",
    "middle = len(string1) // 2\n",
    "print(string1[:middle] + string2 + string1[middle:])"
   ]
  },
  {
   "cell_type": "code",
   "execution_count": null,
   "metadata": {
    "colab": {
     "base_uri": "https://localhost:8080/"
    },
    "executionInfo": {
     "elapsed": 550,
     "status": "ok",
     "timestamp": 1629196795306,
     "user": {
      "displayName": "RITIK RAJDEV",
      "photoUrl": "",
      "userId": "08013551540463342687"
     },
     "user_tz": -330
    },
    "id": "paRKNyJHsY1g",
    "outputId": "7e7d4aaa-906c-4bb1-b175-19d2e2d37ca6"
   },
   "outputs": [
    {
     "name": "stdout",
     "output_type": "stream",
     "text": [
      "-2.12\n"
     ]
    }
   ],
   "source": [
    "floating_number = -2.12345\n",
    "print('%.2f' % floating_number)"
   ]
  },
  {
   "cell_type": "markdown",
   "metadata": {
    "id": "WjrJk9oLyBDd"
   },
   "source": [
    "# Assignment 3"
   ]
  },
  {
   "cell_type": "code",
   "execution_count": null,
   "metadata": {
    "colab": {
     "base_uri": "https://localhost:8080/"
    },
    "executionInfo": {
     "elapsed": 5,
     "status": "ok",
     "timestamp": 1629785473720,
     "user": {
      "displayName": "RITIK RAJDEV",
      "photoUrl": "",
      "userId": "08013551540463342687"
     },
     "user_tz": -330
    },
    "id": "eete3VygyD6N",
    "outputId": "b3ede61c-84e8-4334-c016-141e35f8bcd3"
   },
   "outputs": [
    {
     "data": {
      "text/plain": [
       "15"
      ]
     },
     "execution_count": 1,
     "metadata": {},
     "output_type": "execute_result"
    }
   ],
   "source": [
    "lst = [1, 2, 3, 4, 5]\n",
    "sum(lst)"
   ]
  },
  {
   "cell_type": "code",
   "execution_count": null,
   "metadata": {
    "colab": {
     "base_uri": "https://localhost:8080/"
    },
    "executionInfo": {
     "elapsed": 14,
     "status": "ok",
     "timestamp": 1629785491859,
     "user": {
      "displayName": "RITIK RAJDEV",
      "photoUrl": "",
      "userId": "08013551540463342687"
     },
     "user_tz": -330
    },
    "id": "95ccbF46yNWc",
    "outputId": "8c9f8e54-ccd2-448c-9b7a-54986d3f8715"
   },
   "outputs": [
    {
     "data": {
      "text/plain": [
       "5"
      ]
     },
     "execution_count": 2,
     "metadata": {},
     "output_type": "execute_result"
    }
   ],
   "source": [
    "max(lst)"
   ]
  },
  {
   "cell_type": "code",
   "execution_count": null,
   "metadata": {
    "colab": {
     "base_uri": "https://localhost:8080/"
    },
    "executionInfo": {
     "elapsed": 474,
     "status": "ok",
     "timestamp": 1629785634080,
     "user": {
      "displayName": "RITIK RAJDEV",
      "photoUrl": "",
      "userId": "08013551540463342687"
     },
     "user_tz": -330
    },
    "id": "GdA7SxHXyQPv",
    "outputId": "c6bfd66b-3291-4848-a7f3-d8789eb1eae4"
   },
   "outputs": [
    {
     "data": {
      "text/plain": [
       "[(1, 2), (3, 4), (5, 6)]"
      ]
     },
     "execution_count": 4,
     "metadata": {},
     "output_type": "execute_result"
    }
   ],
   "source": [
    "lst = [(5, 6), (1, 2), (3, 4)]\n",
    "lst.sort(key=lambda a: a[-1])\n",
    "lst"
   ]
  },
  {
   "cell_type": "code",
   "execution_count": null,
   "metadata": {
    "colab": {
     "base_uri": "https://localhost:8080/"
    },
    "executionInfo": {
     "elapsed": 510,
     "status": "ok",
     "timestamp": 1629785688349,
     "user": {
      "displayName": "RITIK RAJDEV",
      "photoUrl": "",
      "userId": "08013551540463342687"
     },
     "user_tz": -330
    },
    "id": "9NLlkXG4y0_H",
    "outputId": "d6fbe961-c6fa-48ed-c365-e7ea94149acb"
   },
   "outputs": [
    {
     "data": {
      "text/plain": [
       "[1, 2, 3, 4, 5]"
      ]
     },
     "execution_count": 6,
     "metadata": {},
     "output_type": "execute_result"
    }
   ],
   "source": [
    "lst = [1, 2, 3, 4, 5, 5]\n",
    "list(set(lst))"
   ]
  },
  {
   "cell_type": "code",
   "execution_count": null,
   "metadata": {
    "colab": {
     "base_uri": "https://localhost:8080/"
    },
    "executionInfo": {
     "elapsed": 3156,
     "status": "ok",
     "timestamp": 1629789546180,
     "user": {
      "displayName": "RITIK RAJDEV",
      "photoUrl": "",
      "userId": "08013551540463342687"
     },
     "user_tz": -330
    },
    "id": "365EDiBvzBGv",
    "outputId": "b31b5bf5-9f7e-43fe-f09e-512d03c88278"
   },
   "outputs": [
    {
     "name": "stdout",
     "output_type": "stream",
     "text": [
      "n = 98\n"
     ]
    },
    {
     "data": {
      "text/plain": [
       "[99]"
      ]
     },
     "execution_count": 9,
     "metadata": {},
     "output_type": "execute_result"
    }
   ],
   "source": [
    "n = int(input('n = '))\n",
    "lst = list(range(1, 100))\n",
    "lst = [x for x in lst if x > n]\n",
    "lst"
   ]
  },
  {
   "cell_type": "code",
   "execution_count": null,
   "metadata": {
    "colab": {
     "base_uri": "https://localhost:8080/"
    },
    "executionInfo": {
     "elapsed": 3327,
     "status": "ok",
     "timestamp": 1629789684660,
     "user": {
      "displayName": "RITIK RAJDEV",
      "photoUrl": "",
      "userId": "08013551540463342687"
     },
     "user_tz": -330
    },
    "id": "1vCiXEbjBux5",
    "outputId": "9c7fff37-c45b-490a-93fd-4de9f996a620"
   },
   "outputs": [
    {
     "name": "stdout",
     "output_type": "stream",
     "text": [
      "Key: a\n",
      "Value: b\n"
     ]
    },
    {
     "data": {
      "text/plain": [
       "{'a': 'b'}"
      ]
     },
     "execution_count": 11,
     "metadata": {},
     "output_type": "execute_result"
    }
   ],
   "source": [
    "key_name = input('Key: ')\n",
    "value = input('Value: ')\n",
    "dct : dict = {}\n",
    "dct[key_name] = value\n",
    "dct"
   ]
  },
  {
   "cell_type": "code",
   "execution_count": null,
   "metadata": {
    "colab": {
     "base_uri": "https://localhost:8080/"
    },
    "executionInfo": {
     "elapsed": 514,
     "status": "ok",
     "timestamp": 1630390565404,
     "user": {
      "displayName": "RITIK RAJDEV",
      "photoUrl": "",
      "userId": "08013551540463342687"
     },
     "user_tz": -330
    },
    "id": "tBdcuxMICQq_",
    "outputId": "9f9de1c4-493b-4ce6-d531-fa2b878d5f91"
   },
   "outputs": [
    {
     "data": {
      "text/plain": [
       "{1: 10, 2: 20, 3: 30, 4: 40, 5: 50, 6: 60}"
      ]
     },
     "execution_count": 4,
     "metadata": {},
     "output_type": "execute_result"
    }
   ],
   "source": [
    "dicts = [{1:10, 2: 20}, {3:30, 4:40}, {5:50, 6:60}]\n",
    "updated_dict = {}\n",
    "for dictionary in dicts:\n",
    "    updated_dict.update(dictionary)\n",
    "updated_dict"
   ]
  },
  {
   "cell_type": "code",
   "execution_count": null,
   "metadata": {
    "colab": {
     "base_uri": "https://localhost:8080/"
    },
    "executionInfo": {
     "elapsed": 4,
     "status": "ok",
     "timestamp": 1630390567039,
     "user": {
      "displayName": "RITIK RAJDEV",
      "photoUrl": "",
      "userId": "08013551540463342687"
     },
     "user_tz": -330
    },
    "id": "FexflQWH2HnS",
    "outputId": "83dbc64c-1e07-4364-8849-5b5934dfd1aa"
   },
   "outputs": [
    {
     "data": {
      "text/plain": [
       "{2: 20, 3: 30, 4: 40, 5: 50, 6: 60}"
      ]
     },
     "execution_count": 5,
     "metadata": {},
     "output_type": "execute_result"
    }
   ],
   "source": [
    "del updated_dict[1]\n",
    "updated_dict"
   ]
  },
  {
   "cell_type": "code",
   "execution_count": null,
   "metadata": {
    "colab": {
     "base_uri": "https://localhost:8080/"
    },
    "executionInfo": {
     "elapsed": 728,
     "status": "ok",
     "timestamp": 1630390729361,
     "user": {
      "displayName": "RITIK RAJDEV",
      "photoUrl": "",
      "userId": "08013551540463342687"
     },
     "user_tz": -330
    },
    "id": "04D80ONH2dKd",
    "outputId": "1f1bb7d4-98a5-4bb5-aa3a-ea415b9cd66c"
   },
   "outputs": [
    {
     "data": {
      "text/plain": [
       "[(1, 3), (1, 4), (2, 3), (2, 4)]"
      ]
     },
     "execution_count": 7,
     "metadata": {},
     "output_type": "execute_result"
    }
   ],
   "source": [
    "from itertools import product\n",
    "dct1 = {1:10, 2: 20}\n",
    "dct2 = {3:30, 4:40}\n",
    "list(product(dct1, dct2))"
   ]
  },
  {
   "cell_type": "code",
   "execution_count": null,
   "metadata": {
    "colab": {
     "base_uri": "https://localhost:8080/"
    },
    "executionInfo": {
     "elapsed": 738,
     "status": "ok",
     "timestamp": 1630394098034,
     "user": {
      "displayName": "RITIK RAJDEV",
      "photoUrl": "",
      "userId": "08013551540463342687"
     },
     "user_tz": -330
    },
    "id": "KnqYGx5HDoN7",
    "outputId": "fe7939f7-5baf-4d33-a4d4-846816e13f90"
   },
   "outputs": [
    {
     "data": {
      "text/plain": [
       "1200"
      ]
     },
     "execution_count": 8,
     "metadata": {},
     "output_type": "execute_result"
    }
   ],
   "source": [
    "x = 1\n",
    "for key, val in dct2.items():\n",
    "    x *= val\n",
    "x"
   ]
  },
  {
   "cell_type": "markdown",
   "metadata": {
    "id": "h9vq5Qn5D8Ea"
   },
   "source": [
    "# Assignment 4"
   ]
  },
  {
   "cell_type": "code",
   "execution_count": null,
   "metadata": {
    "colab": {
     "base_uri": "https://localhost:8080/"
    },
    "executionInfo": {
     "elapsed": 609,
     "status": "ok",
     "timestamp": 1630394150444,
     "user": {
      "displayName": "RITIK RAJDEV",
      "photoUrl": "",
      "userId": "08013551540463342687"
     },
     "user_tz": -330
    },
    "id": "29EIRfpuD-wg",
    "outputId": "1830d3a4-e418-4498-a83b-b9421e0f055e"
   },
   "outputs": [
    {
     "data": {
      "text/plain": [
       "(1, 'hello')"
      ]
     },
     "execution_count": 10,
     "metadata": {},
     "output_type": "execute_result"
    }
   ],
   "source": [
    "tple = (1, 'hello')\n",
    "tple"
   ]
  },
  {
   "cell_type": "code",
   "execution_count": null,
   "metadata": {
    "colab": {
     "base_uri": "https://localhost:8080/"
    },
    "executionInfo": {
     "elapsed": 519,
     "status": "ok",
     "timestamp": 1630394283572,
     "user": {
      "displayName": "RITIK RAJDEV",
      "photoUrl": "",
      "userId": "08013551540463342687"
     },
     "user_tz": -330
    },
    "id": "rG2ZGwOoEGbW",
    "outputId": "b8689857-1442-479d-9e2d-7704bfd142f9"
   },
   "outputs": [
    {
     "data": {
      "text/plain": [
       "(2, 4)"
      ]
     },
     "execution_count": 17,
     "metadata": {},
     "output_type": "execute_result"
    }
   ],
   "source": [
    "tple = (2,)\n",
    "tple = tple + (4,)\n",
    "tple"
   ]
  },
  {
   "cell_type": "code",
   "execution_count": null,
   "metadata": {
    "colab": {
     "base_uri": "https://localhost:8080/",
     "height": 35
    },
    "executionInfo": {
     "elapsed": 422,
     "status": "ok",
     "timestamp": 1630394376352,
     "user": {
      "displayName": "RITIK RAJDEV",
      "photoUrl": "",
      "userId": "08013551540463342687"
     },
     "user_tz": -330
    },
    "id": "t_YGQVuwEPkY",
    "outputId": "6483850a-479e-462d-e192-ec6024957825"
   },
   "outputs": [
    {
     "data": {
      "application/vnd.google.colaboratory.intrinsic+json": {
       "type": "string"
      },
      "text/plain": [
       "'ab'"
      ]
     },
     "execution_count": 22,
     "metadata": {},
     "output_type": "execute_result"
    }
   ],
   "source": [
    "tple = ('a', 'b')\n",
    "''.join(tple)"
   ]
  },
  {
   "cell_type": "code",
   "execution_count": null,
   "metadata": {
    "colab": {
     "base_uri": "https://localhost:8080/"
    },
    "executionInfo": {
     "elapsed": 638,
     "status": "ok",
     "timestamp": 1630394875258,
     "user": {
      "displayName": "RITIK RAJDEV",
      "photoUrl": "",
      "userId": "08013551540463342687"
     },
     "user_tz": -330
    },
    "id": "Gkzlf85UGudL",
    "outputId": "19a58a03-318e-4c10-ffbb-ce68bbaf9088"
   },
   "outputs": [
    {
     "name": "stdout",
     "output_type": "stream",
     "text": [
      "6 3\n"
     ]
    }
   ],
   "source": [
    "tple = (2, 4, 5, 6, 2, 3, 4, 5, 5)\n",
    "print(tple[3], tple[-4])"
   ]
  },
  {
   "cell_type": "code",
   "execution_count": null,
   "metadata": {
    "colab": {
     "base_uri": "https://localhost:8080/"
    },
    "executionInfo": {
     "elapsed": 412,
     "status": "ok",
     "timestamp": 1630394481307,
     "user": {
      "displayName": "RITIK RAJDEV",
      "photoUrl": "",
      "userId": "08013551540463342687"
     },
     "user_tz": -330
    },
    "id": "CTZfqgu9E7FA",
    "outputId": "a3977cd0-60c6-4d85-dd09-a47bdf3d13c6"
   },
   "outputs": [
    {
     "data": {
      "text/plain": [
       "{2: 2, 3: 1, 4: 2, 5: 3, 6: 1}"
      ]
     },
     "execution_count": 25,
     "metadata": {},
     "output_type": "execute_result"
    }
   ],
   "source": [
    "from collections import Counter\n",
    "tple = (2, 4, 5, 6, 2, 3, 4, 5, 5)\n",
    "dict(Counter(tple))"
   ]
  },
  {
   "cell_type": "code",
   "execution_count": null,
   "metadata": {
    "colab": {
     "base_uri": "https://localhost:8080/"
    },
    "executionInfo": {
     "elapsed": 417,
     "status": "ok",
     "timestamp": 1630394506601,
     "user": {
      "displayName": "RITIK RAJDEV",
      "photoUrl": "",
      "userId": "08013551540463342687"
     },
     "user_tz": -330
    },
    "id": "MSRwKY9yFXcd",
    "outputId": "4c4826f8-0157-45ec-e3d6-608b6298112e"
   },
   "outputs": [
    {
     "data": {
      "text/plain": [
       "True"
      ]
     },
     "execution_count": 26,
     "metadata": {},
     "output_type": "execute_result"
    }
   ],
   "source": [
    "2 in tple"
   ]
  },
  {
   "cell_type": "code",
   "execution_count": null,
   "metadata": {
    "colab": {
     "base_uri": "https://localhost:8080/"
    },
    "executionInfo": {
     "elapsed": 417,
     "status": "ok",
     "timestamp": 1630394537730,
     "user": {
      "displayName": "RITIK RAJDEV",
      "photoUrl": "",
      "userId": "08013551540463342687"
     },
     "user_tz": -330
    },
    "id": "XaMo_PDsFeVM",
    "outputId": "aae1891b-de9e-404f-c472-bd7a04788227"
   },
   "outputs": [
    {
     "data": {
      "text/plain": [
       "(1, 2, 3)"
      ]
     },
     "execution_count": 28,
     "metadata": {},
     "output_type": "execute_result"
    }
   ],
   "source": [
    "lst = [1, 2, 3]\n",
    "tuple(lst)"
   ]
  },
  {
   "cell_type": "code",
   "execution_count": null,
   "metadata": {
    "colab": {
     "base_uri": "https://localhost:8080/"
    },
    "executionInfo": {
     "elapsed": 411,
     "status": "ok",
     "timestamp": 1630394561687,
     "user": {
      "displayName": "RITIK RAJDEV",
      "photoUrl": "",
      "userId": "08013551540463342687"
     },
     "user_tz": -330
    },
    "id": "MkzZ9X0kFkgv",
    "outputId": "465a0668-1a5c-4384-86b4-a190631fb35a"
   },
   "outputs": [
    {
     "data": {
      "text/plain": [
       "(4, 5, 6, 2, 3, 4, 5, 5)"
      ]
     },
     "execution_count": 29,
     "metadata": {},
     "output_type": "execute_result"
    }
   ],
   "source": [
    "tple[1:]"
   ]
  },
  {
   "cell_type": "code",
   "execution_count": null,
   "metadata": {
    "colab": {
     "base_uri": "https://localhost:8080/"
    },
    "executionInfo": {
     "elapsed": 664,
     "status": "ok",
     "timestamp": 1630394666393,
     "user": {
      "displayName": "RITIK RAJDEV",
      "photoUrl": "",
      "userId": "08013551540463342687"
     },
     "user_tz": -330
    },
    "id": "tbgIZheYFt7s",
    "outputId": "c81061b5-b1f9-44ad-d6ad-993bc9ced16d"
   },
   "outputs": [
    {
     "data": {
      "text/plain": [
       "9"
      ]
     },
     "execution_count": 31,
     "metadata": {},
     "output_type": "execute_result"
    }
   ],
   "source": [
    "len(tple)"
   ]
  },
  {
   "cell_type": "code",
   "execution_count": null,
   "metadata": {
    "colab": {
     "base_uri": "https://localhost:8080/"
    },
    "executionInfo": {
     "elapsed": 615,
     "status": "ok",
     "timestamp": 1630394782667,
     "user": {
      "displayName": "RITIK RAJDEV",
      "photoUrl": "",
      "userId": "08013551540463342687"
     },
     "user_tz": -330
    },
    "id": "eSObnu8aFxkz",
    "outputId": "d3f481b2-a079-431d-d4a1-ce567c62f94c"
   },
   "outputs": [
    {
     "data": {
      "text/plain": [
       "{0: (2, 4, 5, 6, 2, 3, 4, 5, 5), 1: {1, 2}}"
      ]
     },
     "execution_count": 34,
     "metadata": {},
     "output_type": "execute_result"
    }
   ],
   "source": [
    "lst = [tple, {1, 2}]\n",
    "dct = {}\n",
    "for i in range(len(lst)):\n",
    "    dct[i] = lst[i]\n",
    "dct"
   ]
  },
  {
   "cell_type": "markdown",
   "metadata": {
    "id": "5ec4fwq42Bil"
   },
   "source": []
  },
  {
   "cell_type": "markdown",
   "metadata": {
    "id": "mJ_GML0X56Ou"
   },
   "source": [
    "# Assignment 5"
   ]
  },
  {
   "cell_type": "code",
   "execution_count": null,
   "metadata": {
    "colab": {
     "base_uri": "https://localhost:8080/"
    },
    "executionInfo": {
     "elapsed": 7,
     "status": "ok",
     "timestamp": 1631599514201,
     "user": {
      "displayName": "RITIK RAJDEV",
      "photoUrl": "https://lh3.googleusercontent.com/a/default-user=s64",
      "userId": "08013551540463342687"
     },
     "user_tz": -330
    },
    "id": "URyQCMA658gz",
    "outputId": "49b09f3c-8f52-46d9-9597-2317a48f909e"
   },
   "outputs": [
    {
     "data": {
      "text/plain": [
       "Counter({20: 4, 100: 4})"
      ]
     },
     "execution_count": 2,
     "metadata": {},
     "output_type": "execute_result"
    }
   ],
   "source": [
    "from collections import Counter\n",
    "marks = [100, 100, 100, 100, 20, 20, 20, 20]\n",
    "Counter(marks)"
   ]
  },
  {
   "cell_type": "code",
   "execution_count": null,
   "metadata": {
    "colab": {
     "base_uri": "https://localhost:8080/"
    },
    "executionInfo": {
     "elapsed": 641,
     "status": "ok",
     "timestamp": 1631599836425,
     "user": {
      "displayName": "RITIK RAJDEV",
      "photoUrl": "https://lh3.googleusercontent.com/a/default-user=s64",
      "userId": "08013551540463342687"
     },
     "user_tz": -330
    },
    "id": "uAGdPJRg6Mf7",
    "outputId": "fbc75d6a-828a-4a8c-fc3a-e80aa61b79d6"
   },
   "outputs": [
    {
     "data": {
      "text/plain": [
       "{'book 1', 'book 2', 'book 3'}"
      ]
     },
     "execution_count": 6,
     "metadata": {},
     "output_type": "execute_result"
    }
   ],
   "source": [
    "from pathlib import Path\n",
    "set(Path('./books.txt').read_text().lower().split('\\n'))"
   ]
  },
  {
   "cell_type": "code",
   "execution_count": null,
   "metadata": {
    "colab": {
     "base_uri": "https://localhost:8080/"
    },
    "executionInfo": {
     "elapsed": 3684,
     "status": "ok",
     "timestamp": 1631600118489,
     "user": {
      "displayName": "RITIK RAJDEV",
      "photoUrl": "https://lh3.googleusercontent.com/a/default-user=s64",
      "userId": "08013551540463342687"
     },
     "user_tz": -330
    },
    "id": "wFuaab1D7byz",
    "outputId": "182090b8-6d31-473a-909f-71b6d89689c9"
   },
   "outputs": [
    {
     "name": "stdout",
     "output_type": "stream",
     "text": [
      "book\n"
     ]
    },
    {
     "data": {
      "text/plain": [
       "7"
      ]
     },
     "execution_count": 9,
     "metadata": {},
     "output_type": "execute_result"
    }
   ],
   "source": [
    "from pathlib import Path\n",
    "input_word = input()\n",
    "word_number = Path('./books.txt').read_text().split().index(input_word) + 1\n",
    "word_number"
   ]
  },
  {
   "cell_type": "code",
   "execution_count": null,
   "metadata": {
    "colab": {
     "base_uri": "https://localhost:8080/"
    },
    "executionInfo": {
     "elapsed": 13647,
     "status": "ok",
     "timestamp": 1631600191633,
     "user": {
      "displayName": "RITIK RAJDEV",
      "photoUrl": "https://lh3.googleusercontent.com/a/default-user=s64",
      "userId": "08013551540463342687"
     },
     "user_tz": -330
    },
    "id": "bBOHHSeB8fnm",
    "outputId": "0fdac84e-9e7b-4809-be0e-c256313900d4"
   },
   "outputs": [
    {
     "name": "stdout",
     "output_type": "stream",
     "text": [
      "Hello namaste chlo kaam ki kaam Hello\n"
     ]
    },
    {
     "data": {
      "text/plain": [
       "Counter({'Hello': 2, 'chlo': 1, 'kaam': 2, 'ki': 1, 'namaste': 1})"
      ]
     },
     "execution_count": 10,
     "metadata": {},
     "output_type": "execute_result"
    }
   ],
   "source": [
    "from collections import Counter\n",
    "Counter(input().split())"
   ]
  },
  {
   "cell_type": "code",
   "execution_count": null,
   "metadata": {
    "colab": {
     "base_uri": "https://localhost:8080/",
     "height": 80
    },
    "executionInfo": {
     "elapsed": 505,
     "status": "ok",
     "timestamp": 1631602198890,
     "user": {
      "displayName": "RITIK RAJDEV",
      "photoUrl": "https://lh3.googleusercontent.com/a/default-user=s64",
      "userId": "08013551540463342687"
     },
     "user_tz": -330
    },
    "id": "n1gHoFG48-Qj",
    "outputId": "a0cb22cf-d368-4b14-bd07-93d45fbbc17e"
   },
   "outputs": [
    {
     "data": {
      "text/html": [
       "<div>\n",
       "<style scoped>\n",
       "    .dataframe tbody tr th:only-of-type {\n",
       "        vertical-align: middle;\n",
       "    }\n",
       "\n",
       "    .dataframe tbody tr th {\n",
       "        vertical-align: top;\n",
       "    }\n",
       "\n",
       "    .dataframe thead th {\n",
       "        text-align: right;\n",
       "    }\n",
       "</style>\n",
       "<table border=\"1\" class=\"dataframe\">\n",
       "  <thead>\n",
       "    <tr style=\"text-align: right;\">\n",
       "      <th></th>\n",
       "      <th>Products</th>\n",
       "      <th>Price</th>\n",
       "    </tr>\n",
       "  </thead>\n",
       "  <tbody>\n",
       "    <tr>\n",
       "      <th>1</th>\n",
       "      <td>product 2</td>\n",
       "      <td>200</td>\n",
       "    </tr>\n",
       "  </tbody>\n",
       "</table>\n",
       "</div>"
      ],
      "text/plain": [
       "    Products  Price\n",
       "1  product 2    200"
      ]
     },
     "execution_count": 18,
     "metadata": {},
     "output_type": "execute_result"
    }
   ],
   "source": [
    "import pandas as pd\n",
    "data = pd.read_csv('./input.txt', sep=':')\n",
    "data.drop_duplicates(['Products'], keep=False)"
   ]
  },
  {
   "cell_type": "markdown",
   "metadata": {
    "id": "juH7CO3hDZSv"
   },
   "source": [
    "# Assignment 6"
   ]
  },
  {
   "cell_type": "code",
   "execution_count": 2,
   "metadata": {
    "colab": {
     "base_uri": "https://localhost:8080/"
    },
    "executionInfo": {
     "elapsed": 14704,
     "status": "ok",
     "timestamp": 1632877158998,
     "user": {
      "displayName": "RITIK RAJDEV",
      "photoUrl": "https://lh3.googleusercontent.com/a/default-user=s64",
      "userId": "08013551540463342687"
     },
     "user_tz": -330
    },
    "id": "L3eWfCkPDbTE",
    "outputId": "e06c7b3b-bdb0-4cce-a71b-4174fb96a5df"
   },
   "outputs": [
    {
     "name": "stdout",
     "output_type": "stream",
     "text": [
      "Reading package lists... Done\n",
      "Building dependency tree       \n",
      "Reading state information... Done\n",
      "The following additional packages will be installed:\n",
      "  openjdk-8-jre-headless\n",
      "Suggested packages:\n",
      "  openjdk-8-demo openjdk-8-source libnss-mdns fonts-dejavu-extra\n",
      "  fonts-ipafont-gothic fonts-ipafont-mincho fonts-wqy-microhei\n",
      "  fonts-wqy-zenhei fonts-indic\n",
      "The following NEW packages will be installed:\n",
      "  openjdk-8-jdk-headless openjdk-8-jre-headless\n",
      "0 upgraded, 2 newly installed, 0 to remove and 37 not upgraded.\n",
      "Need to get 36.5 MB of archives.\n",
      "After this operation, 143 MB of additional disk space will be used.\n",
      "Get:1 http://archive.ubuntu.com/ubuntu bionic-updates/universe amd64 openjdk-8-jre-headless amd64 8u292-b10-0ubuntu1~18.04 [28.2 MB]\n",
      "Get:2 http://archive.ubuntu.com/ubuntu bionic-updates/universe amd64 openjdk-8-jdk-headless amd64 8u292-b10-0ubuntu1~18.04 [8,284 kB]\n",
      "Fetched 36.5 MB in 3s (11.9 MB/s)\n",
      "Selecting previously unselected package openjdk-8-jre-headless:amd64.\n",
      "(Reading database ... 155013 files and directories currently installed.)\n",
      "Preparing to unpack .../openjdk-8-jre-headless_8u292-b10-0ubuntu1~18.04_amd64.deb ...\n",
      "Unpacking openjdk-8-jre-headless:amd64 (8u292-b10-0ubuntu1~18.04) ...\n",
      "Selecting previously unselected package openjdk-8-jdk-headless:amd64.\n",
      "Preparing to unpack .../openjdk-8-jdk-headless_8u292-b10-0ubuntu1~18.04_amd64.deb ...\n",
      "Unpacking openjdk-8-jdk-headless:amd64 (8u292-b10-0ubuntu1~18.04) ...\n",
      "Setting up openjdk-8-jre-headless:amd64 (8u292-b10-0ubuntu1~18.04) ...\n",
      "update-alternatives: using /usr/lib/jvm/java-8-openjdk-amd64/jre/bin/orbd to provide /usr/bin/orbd (orbd) in auto mode\n",
      "update-alternatives: using /usr/lib/jvm/java-8-openjdk-amd64/jre/bin/servertool to provide /usr/bin/servertool (servertool) in auto mode\n",
      "update-alternatives: using /usr/lib/jvm/java-8-openjdk-amd64/jre/bin/tnameserv to provide /usr/bin/tnameserv (tnameserv) in auto mode\n",
      "Setting up openjdk-8-jdk-headless:amd64 (8u292-b10-0ubuntu1~18.04) ...\n",
      "update-alternatives: using /usr/lib/jvm/java-8-openjdk-amd64/bin/idlj to provide /usr/bin/idlj (idlj) in auto mode\n",
      "update-alternatives: using /usr/lib/jvm/java-8-openjdk-amd64/bin/wsimport to provide /usr/bin/wsimport (wsimport) in auto mode\n",
      "update-alternatives: using /usr/lib/jvm/java-8-openjdk-amd64/bin/jsadebugd to provide /usr/bin/jsadebugd (jsadebugd) in auto mode\n",
      "update-alternatives: using /usr/lib/jvm/java-8-openjdk-amd64/bin/native2ascii to provide /usr/bin/native2ascii (native2ascii) in auto mode\n",
      "update-alternatives: using /usr/lib/jvm/java-8-openjdk-amd64/bin/javah to provide /usr/bin/javah (javah) in auto mode\n",
      "update-alternatives: using /usr/lib/jvm/java-8-openjdk-amd64/bin/hsdb to provide /usr/bin/hsdb (hsdb) in auto mode\n",
      "update-alternatives: using /usr/lib/jvm/java-8-openjdk-amd64/bin/clhsdb to provide /usr/bin/clhsdb (clhsdb) in auto mode\n",
      "update-alternatives: using /usr/lib/jvm/java-8-openjdk-amd64/bin/extcheck to provide /usr/bin/extcheck (extcheck) in auto mode\n",
      "update-alternatives: using /usr/lib/jvm/java-8-openjdk-amd64/bin/schemagen to provide /usr/bin/schemagen (schemagen) in auto mode\n",
      "update-alternatives: using /usr/lib/jvm/java-8-openjdk-amd64/bin/xjc to provide /usr/bin/xjc (xjc) in auto mode\n",
      "update-alternatives: using /usr/lib/jvm/java-8-openjdk-amd64/bin/jhat to provide /usr/bin/jhat (jhat) in auto mode\n",
      "update-alternatives: using /usr/lib/jvm/java-8-openjdk-amd64/bin/wsgen to provide /usr/bin/wsgen (wsgen) in auto mode\n"
     ]
    }
   ],
   "source": [
    "!apt-get install openjdk-8-jdk-headless"
   ]
  },
  {
   "cell_type": "code",
   "execution_count": 9,
   "metadata": {
    "colab": {
     "base_uri": "https://localhost:8080/"
    },
    "executionInfo": {
     "elapsed": 3032,
     "status": "ok",
     "timestamp": 1632877418155,
     "user": {
      "displayName": "RITIK RAJDEV",
      "photoUrl": "https://lh3.googleusercontent.com/a/default-user=s64",
      "userId": "08013551540463342687"
     },
     "user_tz": -330
    },
    "id": "kBRPQ2YbEEgM",
    "outputId": "0a564ded-d01c-48fb-c342-502e86a28810"
   },
   "outputs": [
    {
     "name": "stdout",
     "output_type": "stream",
     "text": [
      "--2021-09-29 01:03:34--  https://dlcdn.apache.org/spark/spark-3.1.2/spark-3.1.2-bin-hadoop3.2.tgz\n",
      "Resolving dlcdn.apache.org (dlcdn.apache.org)... 151.101.2.132, 2a04:4e42::644\n",
      "Connecting to dlcdn.apache.org (dlcdn.apache.org)|151.101.2.132|:443... connected.\n",
      "HTTP request sent, awaiting response... 200 OK\n",
      "Length: 228834641 (218M) [application/x-gzip]\n",
      "Saving to: ‘spark-3.1.2-bin-hadoop3.2.tgz’\n",
      "\n",
      "spark-3.1.2-bin-had 100%[===================>] 218.23M   149MB/s    in 1.5s    \n",
      "\n",
      "2021-09-29 01:03:36 (149 MB/s) - ‘spark-3.1.2-bin-hadoop3.2.tgz’ saved [228834641/228834641]\n",
      "\n"
     ]
    }
   ],
   "source": [
    "!wget 'https://dlcdn.apache.org/spark/spark-3.1.2/spark-3.1.2-bin-hadoop3.2.tgz'"
   ]
  },
  {
   "cell_type": "code",
   "execution_count": 10,
   "metadata": {
    "colab": {
     "base_uri": "https://localhost:8080/"
    },
    "executionInfo": {
     "elapsed": 583,
     "status": "ok",
     "timestamp": 1632877429872,
     "user": {
      "displayName": "RITIK RAJDEV",
      "photoUrl": "https://lh3.googleusercontent.com/a/default-user=s64",
      "userId": "08013551540463342687"
     },
     "user_tz": -330
    },
    "id": "EfLw1pweETiz",
    "outputId": "c65299d8-27df-432d-9ce0-3442444bfa62"
   },
   "outputs": [
    {
     "name": "stdout",
     "output_type": "stream",
     "text": [
      "sample_data  spark-3.1.2-bin-hadoop3.2.tgz\n"
     ]
    }
   ],
   "source": [
    "!ls"
   ]
  },
  {
   "cell_type": "code",
   "execution_count": 11,
   "metadata": {
    "executionInfo": {
     "elapsed": 3720,
     "status": "ok",
     "timestamp": 1632877452463,
     "user": {
      "displayName": "RITIK RAJDEV",
      "photoUrl": "https://lh3.googleusercontent.com/a/default-user=s64",
      "userId": "08013551540463342687"
     },
     "user_tz": -330
    },
    "id": "FD40C0dbEVMW"
   },
   "outputs": [],
   "source": [
    "!tar xf spark-3.1.2-bin-hadoop3.2.tgz"
   ]
  },
  {
   "cell_type": "code",
   "execution_count": 12,
   "metadata": {
    "colab": {
     "base_uri": "https://localhost:8080/"
    },
    "executionInfo": {
     "elapsed": 424,
     "status": "ok",
     "timestamp": 1632877458855,
     "user": {
      "displayName": "RITIK RAJDEV",
      "photoUrl": "https://lh3.googleusercontent.com/a/default-user=s64",
      "userId": "08013551540463342687"
     },
     "user_tz": -330
    },
    "id": "ZIRlgHaWFKZL",
    "outputId": "f1927913-0cd4-4960-b85a-e3a916039f0a"
   },
   "outputs": [
    {
     "name": "stdout",
     "output_type": "stream",
     "text": [
      "sample_data  spark-3.1.2-bin-hadoop3.2\tspark-3.1.2-bin-hadoop3.2.tgz\n"
     ]
    }
   ],
   "source": [
    "!ls"
   ]
  },
  {
   "cell_type": "code",
   "execution_count": 13,
   "metadata": {
    "colab": {
     "base_uri": "https://localhost:8080/"
    },
    "executionInfo": {
     "elapsed": 4126,
     "status": "ok",
     "timestamp": 1632877506535,
     "user": {
      "displayName": "RITIK RAJDEV",
      "photoUrl": "https://lh3.googleusercontent.com/a/default-user=s64",
      "userId": "08013551540463342687"
     },
     "user_tz": -330
    },
    "id": "a1EBR4fkFTrc",
    "outputId": "75a8eb12-2d84-466a-c5be-646c5710caf3"
   },
   "outputs": [
    {
     "name": "stdout",
     "output_type": "stream",
     "text": [
      "Collecting findspark\n",
      "  Downloading findspark-1.4.2-py2.py3-none-any.whl (4.2 kB)\n",
      "Installing collected packages: findspark\n",
      "Successfully installed findspark-1.4.2\n"
     ]
    }
   ],
   "source": [
    "!pip install findspark"
   ]
  },
  {
   "cell_type": "code",
   "execution_count": 14,
   "metadata": {
    "executionInfo": {
     "elapsed": 397,
     "status": "ok",
     "timestamp": 1632877553167,
     "user": {
      "displayName": "RITIK RAJDEV",
      "photoUrl": "https://lh3.googleusercontent.com/a/default-user=s64",
      "userId": "08013551540463342687"
     },
     "user_tz": -330
    },
    "id": "JJnTN5eiFW4P"
   },
   "outputs": [],
   "source": [
    "import os\n",
    "os.environ[\"JAVA_HOME\"] = \"/usr/lib/jvm/java-8-openjdk-amd64\"\n",
    "os.environ[\"SPARK_HOME\"] = \"/content/spark-3.1.2-bin-hadoop3.2\""
   ]
  },
  {
   "cell_type": "code",
   "execution_count": 15,
   "metadata": {
    "colab": {
     "base_uri": "https://localhost:8080/"
    },
    "executionInfo": {
     "elapsed": 39075,
     "status": "ok",
     "timestamp": 1632877697375,
     "user": {
      "displayName": "RITIK RAJDEV",
      "photoUrl": "https://lh3.googleusercontent.com/a/default-user=s64",
      "userId": "08013551540463342687"
     },
     "user_tz": -330
    },
    "id": "paYnw8N2F6Sc",
    "outputId": "5848e426-96c1-4d23-d290-3e05d8004688"
   },
   "outputs": [
    {
     "name": "stdout",
     "output_type": "stream",
     "text": [
      "Collecting pyspark\n",
      "  Downloading pyspark-3.1.2.tar.gz (212.4 MB)\n",
      "\u001b[K     |████████████████████████████████| 212.4 MB 70 kB/s \n",
      "\u001b[?25hCollecting py4j==0.10.9\n",
      "  Downloading py4j-0.10.9-py2.py3-none-any.whl (198 kB)\n",
      "\u001b[K     |████████████████████████████████| 198 kB 54.6 MB/s \n",
      "\u001b[?25hBuilding wheels for collected packages: pyspark\n",
      "  Building wheel for pyspark (setup.py) ... \u001b[?25l\u001b[?25hdone\n",
      "  Created wheel for pyspark: filename=pyspark-3.1.2-py2.py3-none-any.whl size=212880768 sha256=4cb05a8974c2a933830db6fe0fd74ea66dcd6b01e75897c2fd827e8d55acd222\n",
      "  Stored in directory: /root/.cache/pip/wheels/a5/0a/c1/9561f6fecb759579a7d863dcd846daaa95f598744e71b02c77\n",
      "Successfully built pyspark\n",
      "Installing collected packages: py4j, pyspark\n",
      "Successfully installed py4j-0.10.9 pyspark-3.1.2\n"
     ]
    }
   ],
   "source": [
    "!pip install pyspark"
   ]
  },
  {
   "cell_type": "markdown",
   "metadata": {
    "id": "L4iP689WFoHm"
   },
   "source": [
    "# Assignment 7"
   ]
  },
  {
   "cell_type": "code",
   "execution_count": 18,
   "metadata": {
    "executionInfo": {
     "elapsed": 401,
     "status": "ok",
     "timestamp": 1632877995556,
     "user": {
      "displayName": "RITIK RAJDEV",
      "photoUrl": "https://lh3.googleusercontent.com/a/default-user=s64",
      "userId": "08013551540463342687"
     },
     "user_tz": -330
    },
    "id": "XTaNmMIbHKwZ"
   },
   "outputs": [],
   "source": [
    "import findspark\n",
    "findspark.init()"
   ]
  },
  {
   "cell_type": "code",
   "execution_count": 19,
   "metadata": {
    "executionInfo": {
     "elapsed": 393,
     "status": "ok",
     "timestamp": 1632877997920,
     "user": {
      "displayName": "RITIK RAJDEV",
      "photoUrl": "https://lh3.googleusercontent.com/a/default-user=s64",
      "userId": "08013551540463342687"
     },
     "user_tz": -330
    },
    "id": "KYdMw6H_FiLO"
   },
   "outputs": [],
   "source": [
    "from pyspark.sql import SparkSession\n",
    "\n",
    "spark = SparkSession.builder\\\n",
    "        .master('local')\\\n",
    "        .appName('Colab')\\\n",
    "        .getOrCreate()\n",
    "sc = spark.sparkContext"
   ]
  },
  {
   "cell_type": "code",
   "execution_count": 53,
   "metadata": {
    "colab": {
     "base_uri": "https://localhost:8080/"
    },
    "executionInfo": {
     "elapsed": 587,
     "status": "ok",
     "timestamp": 1632879523059,
     "user": {
      "displayName": "RITIK RAJDEV",
      "photoUrl": "https://lh3.googleusercontent.com/a/default-user=s64",
      "userId": "08013551540463342687"
     },
     "user_tz": -330
    },
    "id": "odu4dNgDM7li",
    "outputId": "bb258a6b-2acd-4d42-8b68-ce5f3f72988f"
   },
   "outputs": [
    {
     "data": {
      "text/plain": [
       "2"
      ]
     },
     "execution_count": 53,
     "metadata": {},
     "output_type": "execute_result"
    }
   ],
   "source": [
    "from multiprocessing import cpu_count\n",
    "cpu_count()"
   ]
  },
  {
   "cell_type": "code",
   "execution_count": 56,
   "metadata": {
    "colab": {
     "base_uri": "https://localhost:8080/"
    },
    "executionInfo": {
     "elapsed": 1063,
     "status": "ok",
     "timestamp": 1632879620194,
     "user": {
      "displayName": "RITIK RAJDEV",
      "photoUrl": "https://lh3.googleusercontent.com/a/default-user=s64",
      "userId": "08013551540463342687"
     },
     "user_tz": -330
    },
    "id": "X2mgPMJhGewu",
    "outputId": "1f859674-5c5f-4c4d-9ce2-6277a773bd2d"
   },
   "outputs": [
    {
     "data": {
      "text/plain": [
       "[1, 3, 5, 7, 9, 11, 13, 15, 17, 19]"
      ]
     },
     "execution_count": 56,
     "metadata": {},
     "output_type": "execute_result"
    }
   ],
   "source": [
    "numbers = sc.parallelize(range(100000), 2)\n",
    "odd = numbers.filter(lambda x: x & 1)\n",
    "odd.take(10)"
   ]
  },
  {
   "cell_type": "code",
   "execution_count": 50,
   "metadata": {
    "executionInfo": {
     "elapsed": 47648,
     "status": "ok",
     "timestamp": 1632879385395,
     "user": {
      "displayName": "RITIK RAJDEV",
      "photoUrl": "https://lh3.googleusercontent.com/a/default-user=s64",
      "userId": "08013551540463342687"
     },
     "user_tz": -330
    },
    "id": "dlOGGdDVHbHZ"
   },
   "outputs": [],
   "source": [
    "def generate_big_random_sentences(filename,linecount):\n",
    "    import random\n",
    "    nouns = (\"puppy\", \"car\", \"rabbit\", \"girl\", \"monkey\")\n",
    "    verbs = (\"runs\", \"hits\", \"jumps\", \"drives\", \"barfs\")\n",
    "    adv = (\"crazily.\", \"dutifully.\", \"foolishly.\", \"merrily.\", \"occasionally.\")\n",
    "    adj = (\"adorable\", \"clueless\", \"dirty\", \"odd\", \"stupid\")\n",
    "\n",
    "    all = [nouns, verbs, adj, adv]\n",
    "\n",
    "    with open(filename,'w') as f:\n",
    "        for i in range(linecount):\n",
    "            f.writelines([' '.join([random.choice(i) for i in all]),'\\n'])\n",
    "\n",
    "generate_big_random_sentences(\"temp_big_sentences.txt\",10000000)"
   ]
  },
  {
   "cell_type": "code",
   "execution_count": 54,
   "metadata": {
    "colab": {
     "base_uri": "https://localhost:8080/"
    },
    "executionInfo": {
     "elapsed": 55094,
     "status": "ok",
     "timestamp": 1632879586932,
     "user": {
      "displayName": "RITIK RAJDEV",
      "photoUrl": "https://lh3.googleusercontent.com/a/default-user=s64",
      "userId": "08013551540463342687"
     },
     "user_tz": -330
    },
    "id": "VPvjmrj0IyAl",
    "outputId": "243fc542-b2cf-4337-cc66-4a512cbce4e9"
   },
   "outputs": [
    {
     "data": {
      "text/plain": [
       "[('drives', 1999855),\n",
       " ('merrily.', 2000832),\n",
       " ('car', 2000737),\n",
       " ('odd', 2002210),\n",
       " ('stupid', 1999308),\n",
       " ('crazily.', 1998488),\n",
       " ('girl', 2000280),\n",
       " ('runs', 1998437),\n",
       " ('rabbit', 2000780),\n",
       " ('dutifully.', 1999637),\n",
       " ('jumps', 2000414),\n",
       " ('clueless', 1999284),\n",
       " ('hits', 2000996),\n",
       " ('adorable', 1997935),\n",
       " ('foolishly.', 2000660),\n",
       " ('puppy', 1997541),\n",
       " ('occasionally.', 2000383),\n",
       " ('monkey', 2000662),\n",
       " ('barfs', 2000298),\n",
       " ('dirty', 2001263)]"
      ]
     },
     "execution_count": 54,
     "metadata": {},
     "output_type": "execute_result"
    }
   ],
   "source": [
    "file = sc.textFile('./temp_big_sentences.txt', 2)\n",
    "\n",
    "file.flatMap(lambda line: line.split())\\\n",
    "    .map(lambda word: [word, 1])\\\n",
    "    .reduceByKey(lambda val1, val2: val1 + val2)\\\n",
    "    .collect()"
   ]
  },
  {
   "cell_type": "code",
   "execution_count": 55,
   "metadata": {
    "colab": {
     "base_uri": "https://localhost:8080/"
    },
    "executionInfo": {
     "elapsed": 10835,
     "status": "ok",
     "timestamp": 1632879612023,
     "user": {
      "displayName": "RITIK RAJDEV",
      "photoUrl": "https://lh3.googleusercontent.com/a/default-user=s64",
      "userId": "08013551540463342687"
     },
     "user_tz": -330
    },
    "id": "DeY5ezsrLgRR",
    "outputId": "a9735151-5c4c-4da3-c829-5f3ea726274a"
   },
   "outputs": [
    {
     "data": {
      "text/plain": [
       "Counter({'adorable': 1997935,\n",
       "         'barfs': 2000298,\n",
       "         'car': 2000737,\n",
       "         'clueless': 1999284,\n",
       "         'crazily.': 1998488,\n",
       "         'dirty': 2001263,\n",
       "         'drives': 1999855,\n",
       "         'dutifully.': 1999637,\n",
       "         'foolishly.': 2000660,\n",
       "         'girl': 2000280,\n",
       "         'hits': 2000996,\n",
       "         'jumps': 2000414,\n",
       "         'merrily.': 2000832,\n",
       "         'monkey': 2000662,\n",
       "         'occasionally.': 2000383,\n",
       "         'odd': 2002210,\n",
       "         'puppy': 1997541,\n",
       "         'rabbit': 2000780,\n",
       "         'runs': 1998437,\n",
       "         'stupid': 1999308})"
      ]
     },
     "execution_count": 55,
     "metadata": {},
     "output_type": "execute_result"
    }
   ],
   "source": [
    "from pathlib import Path\n",
    "from collections import Counter\n",
    "\n",
    "text = Path('./temp_big_sentences.txt').read_text().split()\n",
    "Counter(text)"
   ]
  }
 ],
 "metadata": {
  "colab": {
   "collapsed_sections": [
    "H3bHv5Qd8bMM",
    "WjrJk9oLyBDd",
    "h9vq5Qn5D8Ea"
   ],
   "name": "cloud.ipynb",
   "provenance": []
  },
  "kernelspec": {
   "display_name": "Python 3 (ipykernel)",
   "language": "python",
   "name": "python3"
  },
  "language_info": {
   "codemirror_mode": {
    "name": "ipython",
    "version": 3
   },
   "file_extension": ".py",
   "mimetype": "text/x-python",
   "name": "python",
   "nbconvert_exporter": "python",
   "pygments_lexer": "ipython3",
   "version": "3.9.7"
  }
 },
 "nbformat": 4,
 "nbformat_minor": 1
}
